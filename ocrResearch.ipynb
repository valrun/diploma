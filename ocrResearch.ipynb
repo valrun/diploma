{
 "cells": [
  {
   "cell_type": "code",
   "execution_count": 1,
   "metadata": {
    "collapsed": true
   },
   "outputs": [],
   "source": [
    "from utils.pandasUtils import save_dt, init_dt, get_main_dt\n",
    "from utils.utils import get_image_filepaths, get_name_by_path, get_rgb_image"
   ]
  },
  {
   "cell_type": "code",
   "execution_count": 2,
   "outputs": [
    {
     "data": {
      "text/plain": "        surface text_type\nimage                    \npaper-4   paper   printed\npaper-1   paper   printed\npaper-2   paper   printed\npaper-3   paper   printed\nwood-16    wood   printed",
      "text/html": "<div>\n<style scoped>\n    .dataframe tbody tr th:only-of-type {\n        vertical-align: middle;\n    }\n\n    .dataframe tbody tr th {\n        vertical-align: top;\n    }\n\n    .dataframe thead th {\n        text-align: right;\n    }\n</style>\n<table border=\"1\" class=\"dataframe\">\n  <thead>\n    <tr style=\"text-align: right;\">\n      <th></th>\n      <th>surface</th>\n      <th>text_type</th>\n    </tr>\n    <tr>\n      <th>image</th>\n      <th></th>\n      <th></th>\n    </tr>\n  </thead>\n  <tbody>\n    <tr>\n      <th>paper-4</th>\n      <td>paper</td>\n      <td>printed</td>\n    </tr>\n    <tr>\n      <th>paper-1</th>\n      <td>paper</td>\n      <td>printed</td>\n    </tr>\n    <tr>\n      <th>paper-2</th>\n      <td>paper</td>\n      <td>printed</td>\n    </tr>\n    <tr>\n      <th>paper-3</th>\n      <td>paper</td>\n      <td>printed</td>\n    </tr>\n    <tr>\n      <th>wood-16</th>\n      <td>wood</td>\n      <td>printed</td>\n    </tr>\n  </tbody>\n</table>\n</div>"
     },
     "execution_count": 2,
     "metadata": {},
     "output_type": "execute_result"
    }
   ],
   "source": [
    "dt = get_main_dt()\n",
    "dt.head()"
   ],
   "metadata": {
    "collapsed": false
   }
  },
  {
   "cell_type": "code",
   "execution_count": 3,
   "outputs": [
    {
     "data": {
      "text/plain": "surface\nbrick       3\nglass       5\ngold        7\nmetal      20\npaper       4\nplastic    14\nround       4\nsilver     17\ntyre        3\nwood       22\ndtype: int64"
     },
     "execution_count": 3,
     "metadata": {},
     "output_type": "execute_result"
    }
   ],
   "source": [
    "dt.groupby(['surface']).size()"
   ],
   "metadata": {
    "collapsed": false
   }
  },
  {
   "cell_type": "code",
   "execution_count": 4,
   "outputs": [
    {
     "data": {
      "text/plain": "text_type\npressed        27\nprinted        47\nsqueezedout    25\ndtype: int64"
     },
     "execution_count": 4,
     "metadata": {},
     "output_type": "execute_result"
    }
   ],
   "source": [
    "dt.groupby(['text_type']).size()"
   ],
   "metadata": {
    "collapsed": false
   }
  },
  {
   "cell_type": "code",
   "execution_count": 8,
   "outputs": [
    {
     "data": {
      "text/plain": "                                               pytesseract\nimage                                                     \npaper-4  TULATENDHO PASMEWWATS CHKVYIO CMECh\\n\\nA oT EQ...\npaper-1                                 NECKOBETOK\\nLM\\n\\n\npaper-2  Nw EMENT\\n\\necomaterial\\nCCT, 500-1120 basi¢\\n...\npaper-3  2, ToKIheakay\\nshkortostan, 4891\\nTELEAK #7347...\nwood-16                                                   ",
      "text/html": "<div>\n<style scoped>\n    .dataframe tbody tr th:only-of-type {\n        vertical-align: middle;\n    }\n\n    .dataframe tbody tr th {\n        vertical-align: top;\n    }\n\n    .dataframe thead th {\n        text-align: right;\n    }\n</style>\n<table border=\"1\" class=\"dataframe\">\n  <thead>\n    <tr style=\"text-align: right;\">\n      <th></th>\n      <th>pytesseract</th>\n    </tr>\n    <tr>\n      <th>image</th>\n      <th></th>\n    </tr>\n  </thead>\n  <tbody>\n    <tr>\n      <th>paper-4</th>\n      <td>TULATENDHO PASMEWWATS CHKVYIO CMECh\\n\\nA oT EQ...</td>\n    </tr>\n    <tr>\n      <th>paper-1</th>\n      <td>NECKOBETOK\\nLM\\n\\n</td>\n    </tr>\n    <tr>\n      <th>paper-2</th>\n      <td>Nw EMENT\\n\\necomaterial\\nCCT, 500-1120 basi¢\\n...</td>\n    </tr>\n    <tr>\n      <th>paper-3</th>\n      <td>2, ToKIheakay\\nshkortostan, 4891\\nTELEAK #7347...</td>\n    </tr>\n    <tr>\n      <th>wood-16</th>\n      <td></td>\n    </tr>\n  </tbody>\n</table>\n</div>"
     },
     "execution_count": 8,
     "metadata": {},
     "output_type": "execute_result"
    }
   ],
   "source": [
    "import pytesseract as pytesseract\n",
    "\n",
    "pytesseract_column_name = 'pytesseract'\n",
    "dt_pytesseract = init_dt(dt, pytesseract_column_name)\n",
    "\n",
    "for filename in get_image_filepaths():\n",
    "    img_rgb = get_rgb_image(filename)\n",
    "\n",
    "    res = pytesseract.image_to_string(img_rgb)\n",
    "    image = get_name_by_path(filename)\n",
    "\n",
    "    dt_pytesseract.loc[image] = res\n",
    "\n",
    "dt_pytesseract.head()"
   ],
   "metadata": {
    "collapsed": false
   }
  },
  {
   "cell_type": "code",
   "execution_count": 9,
   "outputs": [],
   "source": [
    "save_dt(dt_pytesseract, pytesseract_column_name)"
   ],
   "metadata": {
    "collapsed": false
   }
  },
  {
   "cell_type": "code",
   "execution_count": 3,
   "outputs": [
    {
     "name": "stderr",
     "output_type": "stream",
     "text": [
      "CUDA not available - defaulting to CPU. Note: This module is much faster with a GPU.\n"
     ]
    },
    {
     "data": {
      "text/plain": "                                                   easyocr\nimage                                                     \npaper-4  50 КГ 8т 'БЕЗОПАСНОСТИ SAFETY REQUIREMENTS ТРЕ...\npaper-1               NWI ПЕСКОБЕТОК [-з0б иихая Сиви аОкг\npaper-2  ны EMENT ППРОМЕМЕИТ 1p ССПЦ 500-Д20 ~ # |_= Ра...\npaper-3  Птомагад Шапukulurn адотвск Рассмg; Баикортост...\nwood-16  660 MUK ХАЛЕВОЛ OCП 3 E1 2500x1250x12 TY 5534-...",
      "text/html": "<div>\n<style scoped>\n    .dataframe tbody tr th:only-of-type {\n        vertical-align: middle;\n    }\n\n    .dataframe tbody tr th {\n        vertical-align: top;\n    }\n\n    .dataframe thead th {\n        text-align: right;\n    }\n</style>\n<table border=\"1\" class=\"dataframe\">\n  <thead>\n    <tr style=\"text-align: right;\">\n      <th></th>\n      <th>easyocr</th>\n    </tr>\n    <tr>\n      <th>image</th>\n      <th></th>\n    </tr>\n  </thead>\n  <tbody>\n    <tr>\n      <th>paper-4</th>\n      <td>50 КГ 8т 'БЕЗОПАСНОСТИ SAFETY REQUIREMENTS ТРЕ...</td>\n    </tr>\n    <tr>\n      <th>paper-1</th>\n      <td>NWI ПЕСКОБЕТОК [-з0б иихая Сиви аОкг</td>\n    </tr>\n    <tr>\n      <th>paper-2</th>\n      <td>ны EMENT ППРОМЕМЕИТ 1p ССПЦ 500-Д20 ~ # |_= Ра...</td>\n    </tr>\n    <tr>\n      <th>paper-3</th>\n      <td>Птомагад Шапukulurn адотвск Рассмg; Баикортост...</td>\n    </tr>\n    <tr>\n      <th>wood-16</th>\n      <td>660 MUK ХАЛЕВОЛ OCП 3 E1 2500x1250x12 TY 5534-...</td>\n    </tr>\n  </tbody>\n</table>\n</div>"
     },
     "execution_count": 3,
     "metadata": {},
     "output_type": "execute_result"
    }
   ],
   "source": [
    "import easyocr\n",
    "\n",
    "easyocr_column_name = 'easyocr'\n",
    "dt_easyocr = init_dt(dt, easyocr_column_name)\n",
    "\n",
    "reader = easyocr.Reader(['ru','en'])\n",
    "\n",
    "for filename in get_image_filepaths():\n",
    "    img_rgb = get_rgb_image(filename)\n",
    "\n",
    "    res = ' '.join(reader.readtext(filename, detail = 0))\n",
    "    image = get_name_by_path(filename)\n",
    "\n",
    "    dt_easyocr.loc[image] = res\n",
    "\n",
    "dt_easyocr.head()"
   ],
   "metadata": {
    "collapsed": false
   }
  },
  {
   "cell_type": "code",
   "execution_count": 4,
   "outputs": [],
   "source": [
    "save_dt(dt_easyocr, easyocr_column_name)"
   ],
   "metadata": {
    "collapsed": false
   }
  },
  {
   "cell_type": "code",
   "execution_count": null,
   "outputs": [],
   "source": [
    "from paddleocr import PaddleOCR,draw_ocr\n",
    "\n",
    "paddleocr_column_name = 'paddleocr'\n",
    "dt_paddleocr = init_dt(dt, paddleocr_column_name)\n",
    "\n",
    "paddle_ocr = PaddleOCR(use_angle_cls=True, lang='en')\n",
    "\n",
    "for filename in get_image_filepaths():\n",
    "    res = ' '.join(paddle_ocr.ocr(filename, cls=True))\n",
    "    image = get_name_by_path(filename)\n",
    "\n",
    "    dt_paddleocr.loc[image] = res\n",
    "\n",
    "dt_paddleocr.head()"
   ],
   "metadata": {
    "collapsed": false
   }
  },
  {
   "cell_type": "code",
   "execution_count": null,
   "outputs": [],
   "source": [
    "save_dt(dt_paddleocr, paddleocr_column_name)"
   ],
   "metadata": {
    "collapsed": false
   }
  },
  {
   "cell_type": "code",
   "execution_count": null,
   "outputs": [],
   "source": [
    "from doctr.models import ocr_predictor\n",
    "from doctr.io import DocumentFile\n",
    "\n",
    "doctr_column_name = 'doctr'\n",
    "dt_doctr = init_dt(dt, doctr_column_name)\n",
    "\n",
    "doctr_ocr = ocr_predictor(det_arch='db_resnet50', reco_arch='crnn_vgg16_bn', pretrained=True)\n",
    "\n",
    "for filename in get_image_filepaths():\n",
    "    single_img_doc = DocumentFile.from_images(filename)\n",
    "\n",
    "    res = doctr_ocr(single_img_doc)\n",
    "    image = get_name_by_path(filename)\n",
    "\n",
    "    dt_paddleocr.loc[image] = res\n",
    "\n",
    "dt_paddleocr.head()\n"
   ],
   "metadata": {
    "collapsed": false
   }
  }
 ],
 "metadata": {
  "kernelspec": {
   "display_name": "Python 3",
   "language": "python",
   "name": "python3"
  },
  "language_info": {
   "codemirror_mode": {
    "name": "ipython",
    "version": 2
   },
   "file_extension": ".py",
   "mimetype": "text/x-python",
   "name": "python",
   "nbconvert_exporter": "python",
   "pygments_lexer": "ipython2",
   "version": "2.7.6"
  }
 },
 "nbformat": 4,
 "nbformat_minor": 0
}
