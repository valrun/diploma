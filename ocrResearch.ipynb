{
 "cells": [
  {
   "cell_type": "code",
   "execution_count": 1,
   "metadata": {
    "collapsed": true
   },
   "outputs": [],
   "source": [
    "from utils.pandasUtils import save_model_dt, init_dt, get_main_dt\n",
    "from utils.utils import get_image_filepaths, get_name_by_path, get_rgb_image"
   ]
  },
  {
   "cell_type": "code",
   "execution_count": 2,
   "outputs": [
    {
     "data": {
      "text/plain": "        surface text_type                                               text\nimage                                                                       \npaper-4   paper   printed  50.87\\nТРЕБОВАНИЯ БЕЗОПАСНОСТИ\\nЦЕМЕНТ СООТВЕТ...\npaper-1   paper   printed         EWL\\nПЕСКОБЕТОН\\nM-300\\n40 RU\\nCOXAR CHEC)\npaper-2   paper   printed  ecomaterial\\nbasic\\nEMENT®\\nЦЕМЕНТ\\nССПЦ 500-Д...\npaper-3   paper   printed  НЕ БРОСАТЬ!\\nПроизводитель / Manufacturor\\nОЛО...\npaper-5   paper   printed  Г КВАРЦЕВЫЙ ПЕСОК\\nИРАНОРНАЯ КРОШКА\\nПЛЕНКА\\nС...",
      "text/html": "<div>\n<style scoped>\n    .dataframe tbody tr th:only-of-type {\n        vertical-align: middle;\n    }\n\n    .dataframe tbody tr th {\n        vertical-align: top;\n    }\n\n    .dataframe thead th {\n        text-align: right;\n    }\n</style>\n<table border=\"1\" class=\"dataframe\">\n  <thead>\n    <tr style=\"text-align: right;\">\n      <th></th>\n      <th>surface</th>\n      <th>text_type</th>\n      <th>text</th>\n    </tr>\n    <tr>\n      <th>image</th>\n      <th></th>\n      <th></th>\n      <th></th>\n    </tr>\n  </thead>\n  <tbody>\n    <tr>\n      <th>paper-4</th>\n      <td>paper</td>\n      <td>printed</td>\n      <td>50.87\\nТРЕБОВАНИЯ БЕЗОПАСНОСТИ\\nЦЕМЕНТ СООТВЕТ...</td>\n    </tr>\n    <tr>\n      <th>paper-1</th>\n      <td>paper</td>\n      <td>printed</td>\n      <td>EWL\\nПЕСКОБЕТОН\\nM-300\\n40 RU\\nCOXAR CHEC)</td>\n    </tr>\n    <tr>\n      <th>paper-2</th>\n      <td>paper</td>\n      <td>printed</td>\n      <td>ecomaterial\\nbasic\\nEMENT®\\nЦЕМЕНТ\\nССПЦ 500-Д...</td>\n    </tr>\n    <tr>\n      <th>paper-3</th>\n      <td>paper</td>\n      <td>printed</td>\n      <td>НЕ БРОСАТЬ!\\nПроизводитель / Manufacturor\\nОЛО...</td>\n    </tr>\n    <tr>\n      <th>paper-5</th>\n      <td>paper</td>\n      <td>printed</td>\n      <td>Г КВАРЦЕВЫЙ ПЕСОК\\nИРАНОРНАЯ КРОШКА\\nПЛЕНКА\\nС...</td>\n    </tr>\n  </tbody>\n</table>\n</div>"
     },
     "execution_count": 2,
     "metadata": {},
     "output_type": "execute_result"
    }
   ],
   "source": [
    "dt = get_main_dt()\n",
    "dt.head()"
   ],
   "metadata": {
    "collapsed": false
   }
  },
  {
   "cell_type": "code",
   "execution_count": 22,
   "outputs": [
    {
     "data": {
      "text/plain": "                                               pytesseract\nimage                                                     \npaper-4  TULATENDHO PASMEWWATS CHKVYIO CMECh\\n\\nA oT EQ...\npaper-1                                 NECKOBETOK\\nLM\\n\\n\npaper-2  Nw EMENT\\n\\necomaterial\\nCCT, 500-1120 basi¢\\n...\npaper-3  2, ToKIheakay\\nshkortostan, 4891\\nTELEAK #7347...\npaper-4  TULATENDHO PASMEWWATS CHKVYIO CMECh\\n\\nA oT EQ...",
      "text/html": "<div>\n<style scoped>\n    .dataframe tbody tr th:only-of-type {\n        vertical-align: middle;\n    }\n\n    .dataframe tbody tr th {\n        vertical-align: top;\n    }\n\n    .dataframe thead th {\n        text-align: right;\n    }\n</style>\n<table border=\"1\" class=\"dataframe\">\n  <thead>\n    <tr style=\"text-align: right;\">\n      <th></th>\n      <th>pytesseract</th>\n    </tr>\n    <tr>\n      <th>image</th>\n      <th></th>\n    </tr>\n  </thead>\n  <tbody>\n    <tr>\n      <th>paper-4</th>\n      <td>TULATENDHO PASMEWWATS CHKVYIO CMECh\\n\\nA oT EQ...</td>\n    </tr>\n    <tr>\n      <th>paper-1</th>\n      <td>NECKOBETOK\\nLM\\n\\n</td>\n    </tr>\n    <tr>\n      <th>paper-2</th>\n      <td>Nw EMENT\\n\\necomaterial\\nCCT, 500-1120 basi¢\\n...</td>\n    </tr>\n    <tr>\n      <th>paper-3</th>\n      <td>2, ToKIheakay\\nshkortostan, 4891\\nTELEAK #7347...</td>\n    </tr>\n    <tr>\n      <th>paper-4</th>\n      <td>TULATENDHO PASMEWWATS CHKVYIO CMECh\\n\\nA oT EQ...</td>\n    </tr>\n  </tbody>\n</table>\n</div>"
     },
     "execution_count": 22,
     "metadata": {},
     "output_type": "execute_result"
    }
   ],
   "source": [
    "from utils.utils import pytesseract_column_name\n",
    "import pytesseract as pytesseract\n",
    "\n",
    "\n",
    "dt_pytesseract = init_dt(dt, pytesseract_column_name)\n",
    "\n",
    "for filename in get_image_filepaths():\n",
    "    img_rgb = get_rgb_image(filename)\n",
    "\n",
    "    res = pytesseract.image_to_string(img_rgb)\n",
    "    image = get_name_by_path(filename)\n",
    "\n",
    "    dt_pytesseract.loc[image] = res\n",
    "\n",
    "dt_pytesseract.head()"
   ],
   "metadata": {
    "collapsed": false
   }
  },
  {
   "cell_type": "code",
   "execution_count": 23,
   "outputs": [],
   "source": [
    "save_model_dt(dt_pytesseract, pytesseract_column_name)"
   ],
   "metadata": {
    "collapsed": false
   }
  },
  {
   "cell_type": "code",
   "execution_count": 3,
   "outputs": [
    {
     "data": {
      "text/plain": "                                                    easyocr\nimage                                                      \npaper-4   50 КГ 8т 'БЕЗОПАСНОСТИ SAFETY REQUIREMENTS ТРЕ...\npaper-1                NWI ПЕСКОБЕТОК [-з0б иихая Сиви аОкг\npaper-2   ны EMENT ППРОМЕМЕИТ 1p ССПЦ 500-Д20 ~ # |_= Ра...\npaper-3   Птомагад Шапukulurn адотвск Рассмg; Баикортост...\nwood-16   660 MUK ХАЛЕВОЛ OCП 3 E1 2500x1250x12 TY 5534-...\n...                                                     ...\nbrick-25                                  ~c} MI?; <.3 4 23\nbrick-24                                     1831 ГЕЛЕНДЖИК\nbrick-18                                                NaN\nbrick-9   [1+в81 Ls; Odienlb] ЖЙМ [ltCk [BR8] Аивnь Rbi ...\nbrick-26                                551 3ч} Fъ зПоешгаъ\n\n[147 rows x 1 columns]",
      "text/html": "<div>\n<style scoped>\n    .dataframe tbody tr th:only-of-type {\n        vertical-align: middle;\n    }\n\n    .dataframe tbody tr th {\n        vertical-align: top;\n    }\n\n    .dataframe thead th {\n        text-align: right;\n    }\n</style>\n<table border=\"1\" class=\"dataframe\">\n  <thead>\n    <tr style=\"text-align: right;\">\n      <th></th>\n      <th>easyocr</th>\n    </tr>\n    <tr>\n      <th>image</th>\n      <th></th>\n    </tr>\n  </thead>\n  <tbody>\n    <tr>\n      <th>paper-4</th>\n      <td>50 КГ 8т 'БЕЗОПАСНОСТИ SAFETY REQUIREMENTS ТРЕ...</td>\n    </tr>\n    <tr>\n      <th>paper-1</th>\n      <td>NWI ПЕСКОБЕТОК [-з0б иихая Сиви аОкг</td>\n    </tr>\n    <tr>\n      <th>paper-2</th>\n      <td>ны EMENT ППРОМЕМЕИТ 1p ССПЦ 500-Д20 ~ # |_= Ра...</td>\n    </tr>\n    <tr>\n      <th>paper-3</th>\n      <td>Птомагад Шапukulurn адотвск Рассмg; Баикортост...</td>\n    </tr>\n    <tr>\n      <th>wood-16</th>\n      <td>660 MUK ХАЛЕВОЛ OCП 3 E1 2500x1250x12 TY 5534-...</td>\n    </tr>\n    <tr>\n      <th>...</th>\n      <td>...</td>\n    </tr>\n    <tr>\n      <th>brick-25</th>\n      <td>~c} MI?; &lt;.3 4 23</td>\n    </tr>\n    <tr>\n      <th>brick-24</th>\n      <td>1831 ГЕЛЕНДЖИК</td>\n    </tr>\n    <tr>\n      <th>brick-18</th>\n      <td>NaN</td>\n    </tr>\n    <tr>\n      <th>brick-9</th>\n      <td>[1+в81 Ls; Odienlb] ЖЙМ [ltCk [BR8] Аивnь Rbi ...</td>\n    </tr>\n    <tr>\n      <th>brick-26</th>\n      <td>551 3ч} Fъ зПоешгаъ</td>\n    </tr>\n  </tbody>\n</table>\n<p>147 rows × 1 columns</p>\n</div>"
     },
     "execution_count": 3,
     "metadata": {},
     "output_type": "execute_result"
    }
   ],
   "source": [
    "from utils.utils import easyocr_column_name\n",
    "from utils.pandasUtils import get_model_dt\n",
    "\n",
    "dt_easyocr = get_model_dt(easyocr_column_name)\n",
    "dt_easyocr"
   ],
   "metadata": {
    "collapsed": false
   }
  },
  {
   "cell_type": "code",
   "execution_count": 4,
   "outputs": [
    {
     "name": "stderr",
     "output_type": "stream",
     "text": [
      "CUDA not available - defaulting to CPU. Note: This module is much faster with a GPU.\n"
     ]
    },
    {
     "name": "stdout",
     "output_type": "stream",
     "text": [
      "/Users/vryndina/study/d-dataset/brick/brick-27.jpg\n"
     ]
    },
    {
     "data": {
      "text/plain": "                                                   easyocr\nimage                                                     \npaper-4  50 КГ 8т 'БЕЗОПАСНОСТИ SAFETY REQUIREMENTS ТРЕ...\npaper-1               NWI ПЕСКОБЕТОК [-з0б иихая Сиви аОкг\npaper-2  ны EMENT ППРОМЕМЕИТ 1p ССПЦ 500-Д20 ~ # |_= Ра...\npaper-3  Птомагад Шапukulurn адотвск Рассмg; Баикортост...\nwood-16  660 MUK ХАЛЕВОЛ OCП 3 E1 2500x1250x12 TY 5534-...",
      "text/html": "<div>\n<style scoped>\n    .dataframe tbody tr th:only-of-type {\n        vertical-align: middle;\n    }\n\n    .dataframe tbody tr th {\n        vertical-align: top;\n    }\n\n    .dataframe thead th {\n        text-align: right;\n    }\n</style>\n<table border=\"1\" class=\"dataframe\">\n  <thead>\n    <tr style=\"text-align: right;\">\n      <th></th>\n      <th>easyocr</th>\n    </tr>\n    <tr>\n      <th>image</th>\n      <th></th>\n    </tr>\n  </thead>\n  <tbody>\n    <tr>\n      <th>paper-4</th>\n      <td>50 КГ 8т 'БЕЗОПАСНОСТИ SAFETY REQUIREMENTS ТРЕ...</td>\n    </tr>\n    <tr>\n      <th>paper-1</th>\n      <td>NWI ПЕСКОБЕТОК [-з0б иихая Сиви аОкг</td>\n    </tr>\n    <tr>\n      <th>paper-2</th>\n      <td>ны EMENT ППРОМЕМЕИТ 1p ССПЦ 500-Д20 ~ # |_= Ра...</td>\n    </tr>\n    <tr>\n      <th>paper-3</th>\n      <td>Птомагад Шапukulurn адотвск Рассмg; Баикортост...</td>\n    </tr>\n    <tr>\n      <th>wood-16</th>\n      <td>660 MUK ХАЛЕВОЛ OCП 3 E1 2500x1250x12 TY 5534-...</td>\n    </tr>\n  </tbody>\n</table>\n</div>"
     },
     "execution_count": 4,
     "metadata": {},
     "output_type": "execute_result"
    }
   ],
   "source": [
    "import easyocr\n",
    "\n",
    "\n",
    "# dt_easyocr = init_dt(dt, easyocr_column_name)\n",
    "\n",
    "reader = easyocr.Reader(['ru','en'])\n",
    "\n",
    "for filename in get_image_filepaths():\n",
    "    image = get_name_by_path(filename)\n",
    "    if image not in dt_easyocr.index.values:\n",
    "        if '.jpg' in filename:\n",
    "            print(filename)\n",
    "            res = ' '.join(reader.readtext(filename, detail = 0))\n",
    "\n",
    "            dt_easyocr.loc[image] = res\n",
    "        else:\n",
    "            dt_easyocr.loc[image] = ''\n",
    "\n",
    "dt_easyocr.head()"
   ],
   "metadata": {
    "collapsed": false
   }
  },
  {
   "cell_type": "code",
   "execution_count": 6,
   "outputs": [],
   "source": [
    "save_model_dt(dt_easyocr, easyocr_column_name)"
   ],
   "metadata": {
    "collapsed": false
   }
  },
  {
   "cell_type": "code",
   "execution_count": null,
   "outputs": [
    {
     "name": "stderr",
     "output_type": "stream",
     "text": [
      "/Library/Python/3.9/site-packages/skimage/util/dtype.py:27: DeprecationWarning: `np.bool8` is a deprecated alias for `np.bool_`.  (Deprecated NumPy 1.24)\n",
      "  np.bool8: (False, True),\n"
     ]
    },
    {
     "name": "stdout",
     "output_type": "stream",
     "text": [
      "paddleocr\n",
      "[2023/01/22 17:54:56] ppocr DEBUG: Namespace(help='==SUPPRESS==', use_gpu=False, use_xpu=False, use_npu=False, ir_optim=True, use_tensorrt=False, min_subgraph_size=15, precision='fp32', gpu_mem=500, image_dir=None, page_num=0, det_algorithm='DB', det_model_dir='/Users/vryndina/.paddleocr/whl/det/en/en_PP-OCRv3_det_infer', det_limit_side_len=960, det_limit_type='max', det_box_type='quad', det_db_thresh=0.3, det_db_box_thresh=0.6, det_db_unclip_ratio=1.5, max_batch_size=10, use_dilation=False, det_db_score_mode='fast', det_east_score_thresh=0.8, det_east_cover_thresh=0.1, det_east_nms_thresh=0.2, det_sast_score_thresh=0.5, det_sast_nms_thresh=0.2, det_pse_thresh=0, det_pse_box_thresh=0.85, det_pse_min_area=16, det_pse_scale=1, scales=[8, 16, 32], alpha=1.0, beta=1.0, fourier_degree=5, rec_algorithm='SVTR_LCNet', rec_model_dir='/Users/vryndina/.paddleocr/whl/rec/en/en_PP-OCRv3_rec_infer', rec_image_inverse=True, rec_image_shape='3, 48, 320', rec_batch_num=6, max_text_length=25, rec_char_dict_path='/Users/vryndina/Library/Python/3.9/lib/python/site-packages/paddleocr/ppocr/utils/en_dict.txt', use_space_char=True, vis_font_path='./doc/fonts/simfang.ttf', drop_score=0.5, e2e_algorithm='PGNet', e2e_model_dir=None, e2e_limit_side_len=768, e2e_limit_type='max', e2e_pgnet_score_thresh=0.5, e2e_char_dict_path='./ppocr/utils/ic15_dict.txt', e2e_pgnet_valid_set='totaltext', e2e_pgnet_mode='fast', use_angle_cls=True, cls_model_dir='/Users/vryndina/.paddleocr/whl/cls/ch_ppocr_mobile_v2.0_cls_infer', cls_image_shape='3, 48, 192', label_list=['0', '180'], cls_batch_num=6, cls_thresh=0.9, enable_mkldnn=False, cpu_threads=10, use_pdserving=False, warmup=False, sr_model_dir=None, sr_image_shape='3, 32, 128', sr_batch_num=1, draw_img_save_dir='./inference_results', save_crop_res=False, crop_res_save_dir='./output', use_mp=False, total_process_num=1, process_id=0, benchmark=False, save_log_path='./log_output/', show_log=True, use_onnx=False, output='./output', table_max_len=488, table_algorithm='TableAttn', table_model_dir=None, merge_no_span_structure=True, table_char_dict_path=None, layout_model_dir=None, layout_dict_path=None, layout_score_threshold=0.5, layout_nms_threshold=0.5, kie_algorithm='LayoutXLM', ser_model_dir=None, re_model_dir=None, use_visual_backbone=True, ser_dict_path='../train_data/XFUND/class_list_xfun.txt', ocr_order_method=None, mode='structure', image_orientation=False, layout=True, table=True, ocr=True, recovery=False, use_pdf2docx_api=False, lang='en', det=True, rec=True, type='ocr', ocr_version='PP-OCRv3', structure_version='PP-StructureV2')\n"
     ]
    }
   ],
   "source": [
    "from utils.utils import paddleocr_column_name\n",
    "from paddleocr import PaddleOCR\n",
    "\n",
    "dt_paddleocr = init_dt(dt, paddleocr_column_name)\n",
    "print(paddleocr_column_name)\n",
    "paddle_ocr = PaddleOCR(use_angle_cls=True, lang='en')\n",
    "print(\"start\")\n",
    "\n",
    "for filename in get_image_filepaths():\n",
    "    res = ' '.join(paddle_ocr.ocr(filename, cls=True))\n",
    "    image = get_name_by_path(filename)\n",
    "    print(image)\n",
    "\n",
    "    dt_paddleocr.loc[image] = res\n",
    "\n",
    "dt_paddleocr.head()"
   ],
   "metadata": {
    "collapsed": false
   }
  },
  {
   "cell_type": "code",
   "execution_count": 1,
   "outputs": [
    {
     "ename": "NameError",
     "evalue": "name 'save_model_dt' is not defined",
     "output_type": "error",
     "traceback": [
      "\u001B[0;31m---------------------------------------------------------------------------\u001B[0m",
      "\u001B[0;31mNameError\u001B[0m                                 Traceback (most recent call last)",
      "Cell \u001B[0;32mIn[1], line 1\u001B[0m\n\u001B[0;32m----> 1\u001B[0m \u001B[43msave_model_dt\u001B[49m(dt_paddleocr, paddleocr_column_name)\n",
      "\u001B[0;31mNameError\u001B[0m: name 'save_model_dt' is not defined"
     ]
    }
   ],
   "source": [
    "save_model_dt(dt_paddleocr, paddleocr_column_name)"
   ],
   "metadata": {
    "collapsed": false
   }
  },
  {
   "cell_type": "code",
   "execution_count": 4,
   "outputs": [
    {
     "name": "stderr",
     "output_type": "stream",
     "text": [
      "/Library/Python/3.9/site-packages/torchvision/models/_utils.py:135: UserWarning: Using 'weights' as positional parameter(s) is deprecated since 0.13 and may be removed in the future. Please use keyword parameter(s) instead.\n",
      "  warnings.warn(\n",
      "/Library/Python/3.9/site-packages/torchvision/models/_utils.py:223: UserWarning: Arguments other than a weight enum or `None` for 'weights' are deprecated since 0.13 and may be removed in the future. The current behavior is equivalent to passing `weights=None`.\n",
      "  warnings.warn(msg)\n"
     ]
    },
    {
     "data": {
      "text/plain": "                                                     doctr\nimage                                                     \npaper-4  50.81 SAFETY REQUIREMENTS GOST 31108-2016 AND ...\npaper-1  NWL NECKOBETOK M-300 CYXAN CHECE IENENTHO-RSCM...\npaper-2  JEMENT EBPOMEEWT ecomaterial basic tpyn CCn450...\npaper-3  HE SPOCATb! pomamopwren, - Manufacturer OAOHSC...\npaper-5  XOTIO,HBAA ACOAIbI \"ONMMKC\" BCEnOrOAHbI OT-20 ...",
      "text/html": "<div>\n<style scoped>\n    .dataframe tbody tr th:only-of-type {\n        vertical-align: middle;\n    }\n\n    .dataframe tbody tr th {\n        vertical-align: top;\n    }\n\n    .dataframe thead th {\n        text-align: right;\n    }\n</style>\n<table border=\"1\" class=\"dataframe\">\n  <thead>\n    <tr style=\"text-align: right;\">\n      <th></th>\n      <th>doctr</th>\n    </tr>\n    <tr>\n      <th>image</th>\n      <th></th>\n    </tr>\n  </thead>\n  <tbody>\n    <tr>\n      <th>paper-4</th>\n      <td>50.81 SAFETY REQUIREMENTS GOST 31108-2016 AND ...</td>\n    </tr>\n    <tr>\n      <th>paper-1</th>\n      <td>NWL NECKOBETOK M-300 CYXAN CHECE IENENTHO-RSCM...</td>\n    </tr>\n    <tr>\n      <th>paper-2</th>\n      <td>JEMENT EBPOMEEWT ecomaterial basic tpyn CCn450...</td>\n    </tr>\n    <tr>\n      <th>paper-3</th>\n      <td>HE SPOCATb! pomamopwren, - Manufacturer OAOHSC...</td>\n    </tr>\n    <tr>\n      <th>paper-5</th>\n      <td>XOTIO,HBAA ACOAIbI \"ONMMKC\" BCEnOrOAHbI OT-20 ...</td>\n    </tr>\n  </tbody>\n</table>\n</div>"
     },
     "execution_count": 4,
     "metadata": {},
     "output_type": "execute_result"
    }
   ],
   "source": [
    "from utils.utils import doctr_column_name\n",
    "from doctr.models import ocr_predictor\n",
    "from doctr.io import DocumentFile\n",
    "\n",
    "dt_doctr = init_dt(dt, doctr_column_name)\n",
    "\n",
    "doctr_ocr = ocr_predictor(det_arch='db_resnet50', reco_arch='crnn_vgg16_bn', pretrained=True)\n",
    "\n",
    "for filename in get_image_filepaths():\n",
    "    single_img_doc = DocumentFile.from_images(filename)\n",
    "\n",
    "    doc = doctr_ocr(single_img_doc)\n",
    "    obj = doc.export()\n",
    "    words = list()\n",
    "    for obj1 in obj['pages'][0][\"blocks\"]:\n",
    "        for obj2 in obj1[\"lines\"]:\n",
    "            for obj3 in obj2[\"words\"]:\n",
    "                words.append(obj3[\"value\"])\n",
    "\n",
    "    res = ' '.join(words)\n",
    "    image = get_name_by_path(filename)\n",
    "\n",
    "    dt_doctr.loc[image] = res\n",
    "\n",
    "dt_doctr.head()"
   ],
   "metadata": {
    "collapsed": false
   }
  },
  {
   "cell_type": "code",
   "execution_count": 15,
   "outputs": [
    {
     "data": {
      "text/plain": "                                                     doctr\nimage                                                     \npaper-4  50.81 SAFETY REQUIREMENTS GOST 31108-2016 AND ...\npaper-1  NWL NECKOBETOK M-300 CYXAN CHECE IENENTHO-RSCM...\npaper-2  JEMENT EBPOMEEWT ecomaterial basic tpyn CCn450...\npaper-3  HE SPOCATb! pomamopwren, - Manufacturer OAOHSC...\nwood-16  000 AOK KAREBAA 0C3E1 2500x1250x12 25,09.2013 ...",
      "text/html": "<div>\n<style scoped>\n    .dataframe tbody tr th:only-of-type {\n        vertical-align: middle;\n    }\n\n    .dataframe tbody tr th {\n        vertical-align: top;\n    }\n\n    .dataframe thead th {\n        text-align: right;\n    }\n</style>\n<table border=\"1\" class=\"dataframe\">\n  <thead>\n    <tr style=\"text-align: right;\">\n      <th></th>\n      <th>doctr</th>\n    </tr>\n    <tr>\n      <th>image</th>\n      <th></th>\n    </tr>\n  </thead>\n  <tbody>\n    <tr>\n      <th>paper-4</th>\n      <td>50.81 SAFETY REQUIREMENTS GOST 31108-2016 AND ...</td>\n    </tr>\n    <tr>\n      <th>paper-1</th>\n      <td>NWL NECKOBETOK M-300 CYXAN CHECE IENENTHO-RSCM...</td>\n    </tr>\n    <tr>\n      <th>paper-2</th>\n      <td>JEMENT EBPOMEEWT ecomaterial basic tpyn CCn450...</td>\n    </tr>\n    <tr>\n      <th>paper-3</th>\n      <td>HE SPOCATb! pomamopwren, - Manufacturer OAOHSC...</td>\n    </tr>\n    <tr>\n      <th>wood-16</th>\n      <td>000 AOK KAREBAA 0C3E1 2500x1250x12 25,09.2013 ...</td>\n    </tr>\n  </tbody>\n</table>\n</div>"
     },
     "execution_count": 15,
     "metadata": {},
     "output_type": "execute_result"
    }
   ],
   "source": [
    "for filename in get_image_filepaths():\n",
    "    single_img_doc = DocumentFile.from_images(filename)\n",
    "\n",
    "    doc = doctr_ocr(single_img_doc)\n",
    "    obj = doc.export()\n",
    "    words = list()\n",
    "    for obj1 in obj['pages'][0][\"blocks\"]:\n",
    "        for obj2 in obj1[\"lines\"]:\n",
    "            for obj3 in obj2[\"words\"]:\n",
    "                words.append(obj3[\"value\"])\n",
    "\n",
    "    res = ' '.join(words)\n",
    "    image = get_name_by_path(filename)\n",
    "    dt_doctr.loc[image] = res\n",
    "\n",
    "dt_doctr.head()"
   ],
   "metadata": {
    "collapsed": false
   }
  },
  {
   "cell_type": "code",
   "execution_count": 2,
   "outputs": [
    {
     "ename": "NameError",
     "evalue": "name 'save_model_dt' is not defined",
     "output_type": "error",
     "traceback": [
      "\u001B[0;31m---------------------------------------------------------------------------\u001B[0m",
      "\u001B[0;31mNameError\u001B[0m                                 Traceback (most recent call last)",
      "Cell \u001B[0;32mIn[2], line 1\u001B[0m\n\u001B[0;32m----> 1\u001B[0m \u001B[43msave_model_dt\u001B[49m(dt_doctr, doctr_column_name)\n",
      "\u001B[0;31mNameError\u001B[0m: name 'save_model_dt' is not defined"
     ]
    }
   ],
   "source": [
    "save_model_dt(dt_doctr, doctr_column_name)"
   ],
   "metadata": {
    "collapsed": false
   }
  },
  {
   "cell_type": "code",
   "execution_count": null,
   "outputs": [],
   "source": [],
   "metadata": {
    "collapsed": false
   }
  }
 ],
 "metadata": {
  "kernelspec": {
   "display_name": "Python 3",
   "language": "python",
   "name": "python3"
  },
  "language_info": {
   "codemirror_mode": {
    "name": "ipython",
    "version": 2
   },
   "file_extension": ".py",
   "mimetype": "text/x-python",
   "name": "python",
   "nbconvert_exporter": "python",
   "pygments_lexer": "ipython2",
   "version": "2.7.6"
  }
 },
 "nbformat": 4,
 "nbformat_minor": 0
}
