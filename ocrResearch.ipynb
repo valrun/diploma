{
 "cells": [
  {
   "cell_type": "code",
   "execution_count": 20,
   "metadata": {
    "collapsed": true
   },
   "outputs": [],
   "source": [
    "from utils.pandasUtils import get_dt, save_dt\n",
    "from utils.utils import get_image_filepaths, get_name_by_path, get_rgb_image"
   ]
  },
  {
   "cell_type": "code",
   "execution_count": 21,
   "outputs": [],
   "source": [
    "dt = get_dt()"
   ],
   "metadata": {
    "collapsed": false
   }
  },
  {
   "cell_type": "code",
   "execution_count": 22,
   "outputs": [
    {
     "data": {
      "text/plain": "     image                                        pytesseract  \\\n                                                                \n0  paper-4  TULATENDHO PASMEWWATS CHKVYIO CMECh\\n\\nA oT EQ...   \n1  paper-1                                 NECKOBETOK\\nLM\\n\\n   \n2  paper-2  Nw EMENT\\n\\necomaterial\\nCCT, 500-1120 basi¢\\n...   \n3  paper-3  2, ToKIheakay\\nshkortostan, 4891\\nTELEAK #7347...   \n4  wood-16                                                      \n\n                                             easyocr surface  \n                                                              \n0  50 КГ 8т 'БЕЗОПАСНОСТИ SAFETY REQUIREMENTS ТРЕ...   paper  \n1               NWI ПЕСКОБЕТОК [-з0б иихая Сиви аОкг   paper  \n2  ны EMENT ППРОМЕМЕИТ 1p ССПЦ 500-Д20 ~ # |_= Ра...   paper  \n3  Птомагад Шапukulurn адотвск Рассмg; Баикортост...   paper  \n4  A|Е NIH ZIG | S IwLS E|F x] VIUl]т В K[R LY IM...    wood  ",
      "text/html": "<div>\n<style scoped>\n    .dataframe tbody tr th:only-of-type {\n        vertical-align: middle;\n    }\n\n    .dataframe tbody tr th {\n        vertical-align: top;\n    }\n\n    .dataframe thead th {\n        text-align: right;\n    }\n</style>\n<table border=\"1\" class=\"dataframe\">\n  <thead>\n    <tr style=\"text-align: right;\">\n      <th></th>\n      <th>image</th>\n      <th>pytesseract</th>\n      <th>easyocr</th>\n      <th>surface</th>\n    </tr>\n    <tr>\n      <th></th>\n      <th></th>\n      <th></th>\n      <th></th>\n      <th></th>\n    </tr>\n  </thead>\n  <tbody>\n    <tr>\n      <th>0</th>\n      <td>paper-4</td>\n      <td>TULATENDHO PASMEWWATS CHKVYIO CMECh\\n\\nA oT EQ...</td>\n      <td>50 КГ 8т 'БЕЗОПАСНОСТИ SAFETY REQUIREMENTS ТРЕ...</td>\n      <td>paper</td>\n    </tr>\n    <tr>\n      <th>1</th>\n      <td>paper-1</td>\n      <td>NECKOBETOK\\nLM\\n\\n</td>\n      <td>NWI ПЕСКОБЕТОК [-з0б иихая Сиви аОкг</td>\n      <td>paper</td>\n    </tr>\n    <tr>\n      <th>2</th>\n      <td>paper-2</td>\n      <td>Nw EMENT\\n\\necomaterial\\nCCT, 500-1120 basi¢\\n...</td>\n      <td>ны EMENT ППРОМЕМЕИТ 1p ССПЦ 500-Д20 ~ # |_= Ра...</td>\n      <td>paper</td>\n    </tr>\n    <tr>\n      <th>3</th>\n      <td>paper-3</td>\n      <td>2, ToKIheakay\\nshkortostan, 4891\\nTELEAK #7347...</td>\n      <td>Птомагад Шапukulurn адотвск Рассмg; Баикортост...</td>\n      <td>paper</td>\n    </tr>\n    <tr>\n      <th>4</th>\n      <td>wood-16</td>\n      <td></td>\n      <td>A|Е NIH ZIG | S IwLS E|F x] VIUl]т В K[R LY IM...</td>\n      <td>wood</td>\n    </tr>\n  </tbody>\n</table>\n</div>"
     },
     "execution_count": 22,
     "metadata": {},
     "output_type": "execute_result"
    }
   ],
   "source": [
    "import pytesseract as pytesseract\n",
    "\n",
    "pytesseract_column_name = 'pytesseract'\n",
    "# dt[pytesseract_column_name] = pd.Series('', index=dt.index)\n",
    "\n",
    "for filename in get_image_filepaths():\n",
    "    img_rgb = get_rgb_image(filename)\n",
    "\n",
    "    res = pytesseract.image_to_string(img_rgb)\n",
    "    image = get_name_by_path(filename)\n",
    "\n",
    "    dt.loc[(dt.image==image), pytesseract_column_name] = res\n",
    "\n",
    "dt.head()"
   ],
   "metadata": {
    "collapsed": false
   }
  },
  {
   "cell_type": "code",
   "execution_count": 23,
   "outputs": [
    {
     "name": "stderr",
     "output_type": "stream",
     "text": [
      "CUDA not available - defaulting to CPU. Note: This module is much faster with a GPU.\n"
     ]
    },
    {
     "data": {
      "text/plain": "     image                                        pytesseract  \\\n                                                                \n0  paper-4  TULATENDHO PASMEWWATS CHKVYIO CMECh\\n\\nA oT EQ...   \n1  paper-1                                 NECKOBETOK\\nLM\\n\\n   \n2  paper-2  Nw EMENT\\n\\necomaterial\\nCCT, 500-1120 basi¢\\n...   \n3  paper-3  2, ToKIheakay\\nshkortostan, 4891\\nTELEAK #7347...   \n4  wood-16                                                      \n\n                                             easyocr surface  \n                                                              \n0  50 КГ 8т 'БЕЗОПАСНОСТИ SAFETY REQUIREMENTS ТРЕ...   paper  \n1               NWI ПЕСКОБЕТОК [-з0б иихая Сиви аОкг   paper  \n2  ны EMENT ППРОМЕМЕИТ 1p ССПЦ 500-Д20 ~ # |_= Ра...   paper  \n3  Птомагад Шапukulurn адотвск Рассмg; Баикортост...   paper  \n4  A|Е NIH ZIG | S IwLS E|F x] VIUl]т В K[R LY IM...    wood  ",
      "text/html": "<div>\n<style scoped>\n    .dataframe tbody tr th:only-of-type {\n        vertical-align: middle;\n    }\n\n    .dataframe tbody tr th {\n        vertical-align: top;\n    }\n\n    .dataframe thead th {\n        text-align: right;\n    }\n</style>\n<table border=\"1\" class=\"dataframe\">\n  <thead>\n    <tr style=\"text-align: right;\">\n      <th></th>\n      <th>image</th>\n      <th>pytesseract</th>\n      <th>easyocr</th>\n      <th>surface</th>\n    </tr>\n    <tr>\n      <th></th>\n      <th></th>\n      <th></th>\n      <th></th>\n      <th></th>\n    </tr>\n  </thead>\n  <tbody>\n    <tr>\n      <th>0</th>\n      <td>paper-4</td>\n      <td>TULATENDHO PASMEWWATS CHKVYIO CMECh\\n\\nA oT EQ...</td>\n      <td>50 КГ 8т 'БЕЗОПАСНОСТИ SAFETY REQUIREMENTS ТРЕ...</td>\n      <td>paper</td>\n    </tr>\n    <tr>\n      <th>1</th>\n      <td>paper-1</td>\n      <td>NECKOBETOK\\nLM\\n\\n</td>\n      <td>NWI ПЕСКОБЕТОК [-з0б иихая Сиви аОкг</td>\n      <td>paper</td>\n    </tr>\n    <tr>\n      <th>2</th>\n      <td>paper-2</td>\n      <td>Nw EMENT\\n\\necomaterial\\nCCT, 500-1120 basi¢\\n...</td>\n      <td>ны EMENT ППРОМЕМЕИТ 1p ССПЦ 500-Д20 ~ # |_= Ра...</td>\n      <td>paper</td>\n    </tr>\n    <tr>\n      <th>3</th>\n      <td>paper-3</td>\n      <td>2, ToKIheakay\\nshkortostan, 4891\\nTELEAK #7347...</td>\n      <td>Птомагад Шапukulurn адотвск Рассмg; Баикортост...</td>\n      <td>paper</td>\n    </tr>\n    <tr>\n      <th>4</th>\n      <td>wood-16</td>\n      <td></td>\n      <td>A|Е NIH ZIG | S IwLS E|F x] VIUl]т В K[R LY IM...</td>\n      <td>wood</td>\n    </tr>\n  </tbody>\n</table>\n</div>"
     },
     "execution_count": 23,
     "metadata": {},
     "output_type": "execute_result"
    }
   ],
   "source": [
    "import easyocr\n",
    "\n",
    "easyocr_column_name = 'easyocr'\n",
    "# dt[easyocr_column_name] = pd.Series('', index=dt.index)\n",
    "\n",
    "reader = easyocr.Reader(['ru','en'])\n",
    "\n",
    "for filename in get_image_filepaths():\n",
    "    img_rgb = get_rgb_image(filename)\n",
    "\n",
    "    res = ' '.join(reader.readtext(filename, detail = 0))\n",
    "    image = get_name_by_path(filename)\n",
    "\n",
    "    dt.loc[(dt.image==image), easyocr_column_name] = res\n",
    "\n",
    "dt.head()"
   ],
   "metadata": {
    "collapsed": false
   }
  },
  {
   "cell_type": "code",
   "execution_count": 23,
   "outputs": [],
   "source": [
    "from utils.pandasUtils import save_dt\n",
    "\n",
    "save_dt(dt)"
   ],
   "metadata": {
    "collapsed": false
   }
  }
 ],
 "metadata": {
  "kernelspec": {
   "display_name": "Python 3",
   "language": "python",
   "name": "python3"
  },
  "language_info": {
   "codemirror_mode": {
    "name": "ipython",
    "version": 2
   },
   "file_extension": ".py",
   "mimetype": "text/x-python",
   "name": "python",
   "nbconvert_exporter": "python",
   "pygments_lexer": "ipython2",
   "version": "2.7.6"
  }
 },
 "nbformat": 4,
 "nbformat_minor": 0
}
