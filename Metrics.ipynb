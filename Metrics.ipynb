{
 "cells": [
  {
   "cell_type": "code",
   "execution_count": 1,
   "metadata": {
    "collapsed": true
   },
   "outputs": [
    {
     "name": "stderr",
     "output_type": "stream",
     "text": [
      "/Library/Python/3.9/site-packages/fuzzywuzzy/fuzz.py:11: UserWarning: Using slow pure-python SequenceMatcher. Install python-Levenshtein to remove this warning\n",
      "  warnings.warn('Using slow pure-python SequenceMatcher. Install python-Levenshtein to remove this warning')\n"
     ]
    }
   ],
   "source": [
    "import pandas as pd\n",
    "import numpy as np\n",
    "from matplotlib import pyplot as plt\n",
    "\n",
    "from utils.pandasUtils import save_dt, get_main_dt, get_dt, init_stat_dt, save_stat_dt\n",
    "from fuzzywuzzy import fuzz, process"
   ]
  },
  {
   "cell_type": "code",
   "execution_count": 3,
   "outputs": [
    {
     "data": {
      "text/plain": "        surface text_type                                               text\nimage                                                                       \npaper-4   paper   printed  50.87\\nТРЕБОВАНИЯ БЕЗОПАСНОСТИ\\nЦЕМЕНТ СООТВЕТ...\npaper-1   paper   printed         EWL\\nПЕСКОБЕТОН\\nM-300\\n40 RU\\nCOXAR CHEC)\npaper-2   paper   printed  ecomaterial\\nbasic\\nEMENT®\\nЦЕМЕНТ\\nССПЦ 500-Д...\npaper-3   paper   printed  НЕ БРОСАТЬ!\\nПроизводитель / Manufacturor\\nОЛО...\npaper-5   paper   printed  Г КВАРЦЕВЫЙ ПЕСОК\\nИРАНОРНАЯ КРОШКА\\nПЛЕНКА\\nС...",
      "text/html": "<div>\n<style scoped>\n    .dataframe tbody tr th:only-of-type {\n        vertical-align: middle;\n    }\n\n    .dataframe tbody tr th {\n        vertical-align: top;\n    }\n\n    .dataframe thead th {\n        text-align: right;\n    }\n</style>\n<table border=\"1\" class=\"dataframe\">\n  <thead>\n    <tr style=\"text-align: right;\">\n      <th></th>\n      <th>surface</th>\n      <th>text_type</th>\n      <th>text</th>\n    </tr>\n    <tr>\n      <th>image</th>\n      <th></th>\n      <th></th>\n      <th></th>\n    </tr>\n  </thead>\n  <tbody>\n    <tr>\n      <th>paper-4</th>\n      <td>paper</td>\n      <td>printed</td>\n      <td>50.87\\nТРЕБОВАНИЯ БЕЗОПАСНОСТИ\\nЦЕМЕНТ СООТВЕТ...</td>\n    </tr>\n    <tr>\n      <th>paper-1</th>\n      <td>paper</td>\n      <td>printed</td>\n      <td>EWL\\nПЕСКОБЕТОН\\nM-300\\n40 RU\\nCOXAR CHEC)</td>\n    </tr>\n    <tr>\n      <th>paper-2</th>\n      <td>paper</td>\n      <td>printed</td>\n      <td>ecomaterial\\nbasic\\nEMENT®\\nЦЕМЕНТ\\nССПЦ 500-Д...</td>\n    </tr>\n    <tr>\n      <th>paper-3</th>\n      <td>paper</td>\n      <td>printed</td>\n      <td>НЕ БРОСАТЬ!\\nПроизводитель / Manufacturor\\nОЛО...</td>\n    </tr>\n    <tr>\n      <th>paper-5</th>\n      <td>paper</td>\n      <td>printed</td>\n      <td>Г КВАРЦЕВЫЙ ПЕСОК\\nИРАНОРНАЯ КРОШКА\\nПЛЕНКА\\nС...</td>\n    </tr>\n  </tbody>\n</table>\n</div>"
     },
     "execution_count": 3,
     "metadata": {},
     "output_type": "execute_result"
    }
   ],
   "source": [
    "dt = get_main_dt()\n",
    "dt_stat = init_stat_dt()\n",
    "\n",
    "dt.head()"
   ],
   "metadata": {
    "collapsed": false
   }
  },
  {
   "cell_type": "code",
   "execution_count": 3,
   "outputs": [
    {
     "data": {
      "text/plain": "surface\nbrick      28\nglass      14\ngold        7\nmetal      20\npaper      12\nplastic    14\nsilver     16\ntyre       17\nwood       22\ndtype: int64"
     },
     "execution_count": 3,
     "metadata": {},
     "output_type": "execute_result"
    }
   ],
   "source": [
    "dt.groupby(['surface']).size()"
   ],
   "metadata": {
    "collapsed": false
   }
  },
  {
   "cell_type": "code",
   "execution_count": 4,
   "outputs": [
    {
     "data": {
      "text/plain": "text_type\npressed        51\nprinted        55\nsqueezedout    44\ndtype: int64"
     },
     "execution_count": 4,
     "metadata": {},
     "output_type": "execute_result"
    }
   ],
   "source": [
    "dt.groupby(['text_type']).size()"
   ],
   "metadata": {
    "collapsed": false
   }
  },
  {
   "cell_type": "code",
   "execution_count": 4,
   "outputs": [],
   "source": [
    "def find_max_levenstein(expected, actual):\n",
    "    same_letters = {'А': 'A', 'а': 'a',\n",
    "                    'В': 'B',\n",
    "                    'Е': 'E', 'е': 'e',\n",
    "                    'К': 'K', 'к': 'k',\n",
    "                    'М': 'M',\n",
    "                    'Н': 'H',\n",
    "                    'О': 'O', 'о': 'o',\n",
    "                    'Р': 'P', 'р': 'p',\n",
    "                    'С': 'C', 'с': 'c',\n",
    "                    'Т': 'T',\n",
    "                    'У': 'Y', 'у': 'y',\n",
    "                    'Х': 'X', 'х': 'x',\n",
    "                    }\n",
    "    for oldChar, newChar in same_letters.items():\n",
    "        expected = expected.replace(oldChar, newChar)\n",
    "        actual = actual.replace(oldChar, newChar)\n",
    "\n",
    "    levenstein = fuzz.ratio(expected, actual)\n",
    "    same_letters_2 = {'З': '3', 'з': '3',\n",
    "                      'О': '0', 'о': '0',\n",
    "                      'l': '1',\n",
    "                    }\n",
    "    for oldChar, newChar in same_letters_2.items():\n",
    "        expected = expected.replace(oldChar, newChar)\n",
    "        actual = actual.replace(oldChar, newChar)\n",
    "\n",
    "    levenstein = max(levenstein, fuzz.ratio(expected, actual))\n",
    "    return levenstein"
   ],
   "metadata": {
    "collapsed": false
   }
  },
  {
   "cell_type": "code",
   "execution_count": 5,
   "outputs": [],
   "source": [
    "def get_dt_(data_name):\n",
    "    dt_ = get_dt(data_name)\n",
    "    print(dt_.head(5))\n",
    "    return dt_\n",
    "\n",
    "def add_levenstein(dt_, data_name):\n",
    "    dt_ = dt_.assign(levenstein=pd.Series(np.random.randn(len(dt_))).values)\n",
    "\n",
    "    for image in dt_.index:\n",
    "        if image in dt.index.values:\n",
    "            expected = str(dt.text.loc[image])\n",
    "            actual = dt_[data_name].loc[image]\n",
    "            actual_str = '' if actual == np.nan else str(actual)\n",
    "\n",
    "            dt_.loc[image] = actual, find_max_levenstein(expected.lower(), actual_str)\n",
    "\n",
    "    print(dt_.head())\n",
    "    return dt_"
   ],
   "metadata": {
    "collapsed": false
   }
  },
  {
   "cell_type": "code",
   "execution_count": 31,
   "outputs": [],
   "source": [
    "from statistics import median, mean\n",
    "\n",
    "def stat(dt_, data_name):\n",
    "    plt.hist(dt_.levenstein,\n",
    "             bins=20,\n",
    "             rwidth=0.4)\n",
    "    plt.ylabel('Image')\n",
    "    plt.xlabel('Levenstein')\n",
    "    print(plt.show())\n",
    "\n",
    "    values = sorted(dt_.levenstein)\n",
    "    dt_stat.loc[data_name] = mean(values),median(values),min(values), max(values)"
   ],
   "metadata": {
    "collapsed": false
   }
  },
  {
   "cell_type": "code",
   "execution_count": 9,
   "outputs": [
    {
     "name": "stdout",
     "output_type": "stream",
     "text": [
      "                                                    Unnamed: 0    image  \\\n",
      "easyocr                                                                   \n",
      "50 кг 8т 'безопасности safety requirements треб...           0  paper-4   \n",
      "nwi пескобеток [-з0б иихая сиви аокг                         1  paper-1   \n",
      "ны ement ппромемеит 1p сспц 500-д20 ~ # |_= рас...           2  paper-2   \n",
      "птомагад шапukulurn адотвск рассмg; баикортоста...           3  paper-3   \n",
      "660 muk халевол ocп 3 e1 2500x1250x12 ty 5534-6...           4  wood-16   \n",
      "\n",
      "                                                    levenstein  \n",
      "easyocr                                                         \n",
      "50 кг 8т 'безопасности safety requirements треб...    0.549260  \n",
      "nwi пескобеток [-з0б иихая сиви аокг                 -0.034793  \n",
      "ны ement ппромемеит 1p сспц 500-д20 ~ # |_= рас...   -1.456741  \n",
      "птомагад шапukulurn адотвск рассмg; баикортоста...   -1.084165  \n",
      "660 muk халевол ocп 3 e1 2500x1250x12 ty 5534-6...    2.643382  \n",
      "                                                    Unnamed: 0    image  \\\n",
      "easyocr                                                                   \n",
      "50 кг 8т 'безопасности safety requirements треб...           0  paper-4   \n",
      "nwi пескобеток [-з0б иихая сиви аокг                         1  paper-1   \n",
      "ны ement ппромемеит 1p сспц 500-д20 ~ # |_= рас...           2  paper-2   \n",
      "птомагад шапukulurn адотвск рассмg; баикортоста...           3  paper-3   \n",
      "660 muk халевол ocп 3 e1 2500x1250x12 ty 5534-6...           4  wood-16   \n",
      "\n",
      "                                                    levenstein  \n",
      "easyocr                                                         \n",
      "50 кг 8т 'безопасности safety requirements треб...   -0.032495  \n",
      "nwi пескобеток [-з0б иихая сиви аокг                  0.729101  \n",
      "ны ement ппромемеит 1p сспц 500-д20 ~ # |_= рас...   -1.412761  \n",
      "птомагад шапukulurn адотвск рассмg; баикортоста...   -0.976873  \n",
      "660 muk халевол ocп 3 e1 2500x1250x12 ty 5534-6...   -2.163753  \n"
     ]
    },
    {
     "data": {
      "text/plain": "<Figure size 640x480 with 1 Axes>",
      "image/png": "[encoded data removed]"
     },
     "metadata": {},
     "output_type": "display_data"
    },
    {
     "name": "stdout",
     "output_type": "stream",
     "text": [
      "None\n"
     ]
    }
   ],
   "source": [
    "from utils.utils import easyocr_column_name\n",
    "\n",
    "dt_easyocr = get_dt_(easyocr_column_name)\n",
    "dt_easyocr = add_levenstein(dt_easyocr, easyocr_column_name)\n",
    "stat(dt_easyocr, easyocr_column_name)\n",
    "save_dt(dt_easyocr, easyocr_column_name)"
   ],
   "metadata": {
    "collapsed": false
   }
  },
  {
   "cell_type": "code",
   "execution_count": 11,
   "outputs": [
    {
     "name": "stdout",
     "output_type": "stream",
     "text": [
      "                                                    Unnamed: 0    image  \\\n",
      "pytesseract                                                               \n",
      "neckobetok\\nlm\\n\\n                                           0  paper-1   \n",
      "nw ement\\n\\necomaterial\\ncct, 500-1120 basi¢\\ny...           1  paper-2   \n",
      "2, tokiheakay\\nshkortostan, 4891\\nteleak #73479...           2  paper-3   \n",
      "tulatendho pasmewwats chkvyi                                 3  paper-4   \n",
      "NaN                                                          4  paper-5   \n",
      "\n",
      "                                                    levenstein  \n",
      "pytesseract                                                     \n",
      "neckobetok\\nlm\\n\\n                                    2.275539  \n",
      "nw ement\\n\\necomaterial\\ncct, 500-1120 basi¢\\ny...   -0.398075  \n",
      "2, tokiheakay\\nshkortostan, 4891\\nteleak #73479...    0.183157  \n",
      "tulatendho pasmewwats chkvyi                          0.020636  \n",
      "NaN                                                  -0.174405  \n",
      "                                                    Unnamed: 0    image  \\\n",
      "pytesseract                                                               \n",
      "neckobetok\\nlm\\n\\n                                           0  paper-1   \n",
      "nw ement\\n\\necomaterial\\ncct, 500-1120 basi¢\\ny...           1  paper-2   \n",
      "2, tokiheakay\\nshkortostan, 4891\\nteleak #73479...           2  paper-3   \n",
      "tulatendho pasmewwats chkvyi                                 3  paper-4   \n",
      "NaN                                                          4  paper-5   \n",
      "\n",
      "                                                    levenstein  \n",
      "pytesseract                                                     \n",
      "neckobetok\\nlm\\n\\n                                   -0.931580  \n",
      "nw ement\\n\\necomaterial\\ncct, 500-1120 basi¢\\ny...    0.954983  \n",
      "2, tokiheakay\\nshkortostan, 4891\\nteleak #73479...   -1.047322  \n",
      "tulatendho pasmewwats chkvyi                          1.190951  \n",
      "NaN                                                  -0.061683  \n"
     ]
    },
    {
     "data": {
      "text/plain": "<Figure size 640x480 with 1 Axes>",
      "image/png": "[encoded data removed]"
     },
     "metadata": {},
     "output_type": "display_data"
    },
    {
     "name": "stdout",
     "output_type": "stream",
     "text": [
      "None\n"
     ]
    }
   ],
   "source": [
    "from utils.utils import pytesseract_column_name\n",
    "\n",
    "dt_pytesseract = get_dt_(pytesseract_column_name)\n",
    "dt_pytesseract = add_levenstein(dt_pytesseract, pytesseract_column_name)\n",
    "stat(dt_pytesseract, pytesseract_column_name)\n",
    "save_dt(dt_pytesseract, pytesseract_column_name)"
   ],
   "metadata": {
    "collapsed": false
   }
  },
  {
   "cell_type": "code",
   "execution_count": 12,
   "outputs": [
    {
     "name": "stdout",
     "output_type": "stream",
     "text": [
      "                                                    Unnamed: 0    image  \\\n",
      "doctr                                                                     \n",
      "50.81 safety requirements gost 31108-2016 and a...           0  paper-4   \n",
      "nwl neckobetok m-300 cyxan chece ienentho-rscm ...           1  paper-1   \n",
      "jement ebpomeewt ecomaterial basic tpyn ccn4500...           2  paper-2   \n",
      "he spocatb! pomamopwren, - manufacturer oaohsck...           3  paper-3   \n",
      "xotio,hbaa acoaibi \"onmmkc\" bcenoroahbi ot-20 a...           4  paper-5   \n",
      "\n",
      "                                                    levenstein  \n",
      "doctr                                                           \n",
      "50.81 safety requirements gost 31108-2016 and a...    0.066398  \n",
      "nwl neckobetok m-300 cyxan chece ienentho-rscm ...   -0.029078  \n",
      "jement ebpomeewt ecomaterial basic tpyn ccn4500...   -1.083464  \n",
      "he spocatb! pomamopwren, - manufacturer oaohsck...   -0.397192  \n",
      "xotio,hbaa acoaibi \"onmmkc\" bcenoroahbi ot-20 a...   -0.642705  \n",
      "                                                    Unnamed: 0    image  \\\n",
      "doctr                                                                     \n",
      "50.81 safety requirements gost 31108-2016 and a...           0  paper-4   \n",
      "nwl neckobetok m-300 cyxan chece ienentho-rscm ...           1  paper-1   \n",
      "jement ebpomeewt ecomaterial basic tpyn ccn4500...           2  paper-2   \n",
      "he spocatb! pomamopwren, - manufacturer oaohsck...           3  paper-3   \n",
      "xotio,hbaa acoaibi \"onmmkc\" bcenoroahbi ot-20 a...           4  paper-5   \n",
      "\n",
      "                                                    levenstein  \n",
      "doctr                                                           \n",
      "50.81 safety requirements gost 31108-2016 and a...    0.436838  \n",
      "nwl neckobetok m-300 cyxan chece ienentho-rscm ...   -0.569111  \n",
      "jement ebpomeewt ecomaterial basic tpyn ccn4500...    0.098131  \n",
      "he spocatb! pomamopwren, - manufacturer oaohsck...   -0.123071  \n",
      "xotio,hbaa acoaibi \"onmmkc\" bcenoroahbi ot-20 a...   -1.282111  \n"
     ]
    },
    {
     "data": {
      "text/plain": "<Figure size 640x480 with 1 Axes>",
      "image/png": "[encoded data removed]"
     },
     "metadata": {},
     "output_type": "display_data"
    },
    {
     "name": "stdout",
     "output_type": "stream",
     "text": [
      "None\n"
     ]
    }
   ],
   "source": [
    "from utils.utils import doctr_column_name\n",
    "\n",
    "dt_doctr = get_dt_(doctr_column_name)\n",
    "dt_doctr = add_levenstein(dt_doctr, doctr_column_name)\n",
    "stat(dt_doctr, doctr_column_name)\n",
    "save_dt(dt_doctr, doctr_column_name)"
   ],
   "metadata": {
    "collapsed": false
   }
  },
  {
   "cell_type": "code",
   "execution_count": 13,
   "outputs": [
    {
     "data": {
      "text/plain": "                 mean    median       min       max\nmodel                                              \neasyocr     -0.082269 -0.062480 -2.770543  1.828328\npytesseract  0.090897  0.110287 -3.515706  2.970180\ndoctr       -0.134896 -0.104648 -3.171105  2.511914",
      "text/html": "<div>\n<style scoped>\n    .dataframe tbody tr th:only-of-type {\n        vertical-align: middle;\n    }\n\n    .dataframe tbody tr th {\n        vertical-align: top;\n    }\n\n    .dataframe thead th {\n        text-align: right;\n    }\n</style>\n<table border=\"1\" class=\"dataframe\">\n  <thead>\n    <tr style=\"text-align: right;\">\n      <th></th>\n      <th>mean</th>\n      <th>median</th>\n      <th>min</th>\n      <th>max</th>\n    </tr>\n    <tr>\n      <th>model</th>\n      <th></th>\n      <th></th>\n      <th></th>\n      <th></th>\n    </tr>\n  </thead>\n  <tbody>\n    <tr>\n      <th>easyocr</th>\n      <td>-0.082269</td>\n      <td>-0.062480</td>\n      <td>-2.770543</td>\n      <td>1.828328</td>\n    </tr>\n    <tr>\n      <th>pytesseract</th>\n      <td>0.090897</td>\n      <td>0.110287</td>\n      <td>-3.515706</td>\n      <td>2.970180</td>\n    </tr>\n    <tr>\n      <th>doctr</th>\n      <td>-0.134896</td>\n      <td>-0.104648</td>\n      <td>-3.171105</td>\n      <td>2.511914</td>\n    </tr>\n  </tbody>\n</table>\n</div>"
     },
     "execution_count": 13,
     "metadata": {},
     "output_type": "execute_result"
    }
   ],
   "source": [
    "save_stat_dt(dt_stat)\n",
    "dt_stat"
   ],
   "metadata": {
    "collapsed": false
   }
  },
  {
   "cell_type": "code",
   "execution_count": null,
   "outputs": [],
   "source": [],
   "metadata": {
    "collapsed": false
   }
  }
 ],
 "metadata": {
  "kernelspec": {
   "display_name": "Python 3",
   "language": "python",
   "name": "python3"
  },
  "language_info": {
   "codemirror_mode": {
    "name": "ipython",
    "version": 2
   },
   "file_extension": ".py",
   "mimetype": "text/x-python",
   "name": "python",
   "nbconvert_exporter": "python",
   "pygments_lexer": "ipython2",
   "version": "2.7.6"
  }
 },
 "nbformat": 4,
 "nbformat_minor": 0
}
