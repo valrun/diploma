{
 "cells": [
  {
   "cell_type": "code",
   "execution_count": 1,
   "metadata": {
    "collapsed": true
   },
   "outputs": [
    {
     "name": "stderr",
     "output_type": "stream",
     "text": [
      "/Library/Python/3.9/site-packages/fuzzywuzzy/fuzz.py:11: UserWarning: Using slow pure-python SequenceMatcher. Install python-Levenshtein to remove this warning\n",
      "  warnings.warn('Using slow pure-python SequenceMatcher. Install python-Levenshtein to remove this warning')\n"
     ]
    }
   ],
   "source": [
    "import pandas as pd\n",
    "import numpy as np\n",
    "from matplotlib import pyplot as plt\n",
    "\n",
    "from utils.pandasUtils import save_dt, get_main_dt, get_dt, init_stat_dt, save_stat_dt, get_stat_dt\n",
    "from fuzzywuzzy import fuzz, process"
   ]
  },
  {
   "cell_type": "code",
   "execution_count": 2,
   "outputs": [
    {
     "data": {
      "text/plain": "        surface text_type                                               text\nimage                                                                       \npaper-4   paper   printed  50.87\\nТРЕБОВАНИЯ БЕЗОПАСНОСТИ\\nЦЕМЕНТ СООТВЕТ...\npaper-1   paper   printed         EWL\\nПЕСКОБЕТОН\\nM-300\\n40 RU\\nCOXAR CHEC)\npaper-2   paper   printed  ecomaterial\\nbasic\\nEMENT®\\nЦЕМЕНТ\\nССПЦ 500-Д...\npaper-3   paper   printed  НЕ БРОСАТЬ!\\nПроизводитель / Manufacturor\\nОЛО...\npaper-5   paper   printed  Г КВАРЦЕВЫЙ ПЕСОК\\nИРАНОРНАЯ КРОШКА\\nПЛЕНКА\\nС...",
      "text/html": "<div>\n<style scoped>\n    .dataframe tbody tr th:only-of-type {\n        vertical-align: middle;\n    }\n\n    .dataframe tbody tr th {\n        vertical-align: top;\n    }\n\n    .dataframe thead th {\n        text-align: right;\n    }\n</style>\n<table border=\"1\" class=\"dataframe\">\n  <thead>\n    <tr style=\"text-align: right;\">\n      <th></th>\n      <th>surface</th>\n      <th>text_type</th>\n      <th>text</th>\n    </tr>\n    <tr>\n      <th>image</th>\n      <th></th>\n      <th></th>\n      <th></th>\n    </tr>\n  </thead>\n  <tbody>\n    <tr>\n      <th>paper-4</th>\n      <td>paper</td>\n      <td>printed</td>\n      <td>50.87\\nТРЕБОВАНИЯ БЕЗОПАСНОСТИ\\nЦЕМЕНТ СООТВЕТ...</td>\n    </tr>\n    <tr>\n      <th>paper-1</th>\n      <td>paper</td>\n      <td>printed</td>\n      <td>EWL\\nПЕСКОБЕТОН\\nM-300\\n40 RU\\nCOXAR CHEC)</td>\n    </tr>\n    <tr>\n      <th>paper-2</th>\n      <td>paper</td>\n      <td>printed</td>\n      <td>ecomaterial\\nbasic\\nEMENT®\\nЦЕМЕНТ\\nССПЦ 500-Д...</td>\n    </tr>\n    <tr>\n      <th>paper-3</th>\n      <td>paper</td>\n      <td>printed</td>\n      <td>НЕ БРОСАТЬ!\\nПроизводитель / Manufacturor\\nОЛО...</td>\n    </tr>\n    <tr>\n      <th>paper-5</th>\n      <td>paper</td>\n      <td>printed</td>\n      <td>Г КВАРЦЕВЫЙ ПЕСОК\\nИРАНОРНАЯ КРОШКА\\nПЛЕНКА\\nС...</td>\n    </tr>\n  </tbody>\n</table>\n</div>"
     },
     "execution_count": 2,
     "metadata": {},
     "output_type": "execute_result"
    }
   ],
   "source": [
    "dt = get_main_dt()\n",
    "# dt_stat = get_stat_dt()\n",
    "dt_stat = init_stat_dt()\n",
    "\n",
    "dt.head()"
   ],
   "metadata": {
    "collapsed": false
   }
  },
  {
   "cell_type": "code",
   "execution_count": 3,
   "outputs": [
    {
     "data": {
      "text/plain": "surface\nbrick      28\nglass      14\ngold        7\nmetal      20\npaper      12\nplastic    14\nsilver     16\ntyre       17\nwood       22\ndtype: int64"
     },
     "execution_count": 3,
     "metadata": {},
     "output_type": "execute_result"
    }
   ],
   "source": [
    "dt.groupby(['surface']).size()"
   ],
   "metadata": {
    "collapsed": false
   }
  },
  {
   "cell_type": "code",
   "execution_count": 4,
   "outputs": [
    {
     "data": {
      "text/plain": "text_type\npressed        51\nprinted        55\nsqueezedout    44\ndtype: int64"
     },
     "execution_count": 4,
     "metadata": {},
     "output_type": "execute_result"
    }
   ],
   "source": [
    "dt.groupby(['text_type']).size()"
   ],
   "metadata": {
    "collapsed": false
   }
  },
  {
   "cell_type": "code",
   "execution_count": 3,
   "outputs": [],
   "source": [
    "def find_max_levenstein(expected, actual):\n",
    "    same_letters = {'А': 'A', 'а': 'a',\n",
    "                    'В': 'B',\n",
    "                    'Е': 'E', 'е': 'e',\n",
    "                    'К': 'K', 'к': 'k',\n",
    "                    'М': 'M',\n",
    "                    'Н': 'H',\n",
    "                    'О': 'O', 'о': 'o',\n",
    "                    'Р': 'P', 'р': 'p',\n",
    "                    'С': 'C', 'с': 'c',\n",
    "                    'Т': 'T',\n",
    "                    'У': 'Y', 'у': 'y',\n",
    "                    'Х': 'X', 'х': 'x',\n",
    "                    }\n",
    "    for oldChar, newChar in same_letters.items():\n",
    "        expected = expected.replace(oldChar, newChar)\n",
    "        actual = actual.replace(oldChar, newChar)\n",
    "\n",
    "    levenstein = fuzz.ratio(expected, actual)\n",
    "    same_letters_2 = {'З': '3', 'з': '3',\n",
    "                      'О': '0', 'о': '0',\n",
    "                      'I': '1',\n",
    "                      'l': '1',\n",
    "                      }\n",
    "    for oldChar, newChar in same_letters_2.items():\n",
    "        expected = expected.replace(oldChar, newChar)\n",
    "        actual = actual.replace(oldChar, newChar)\n",
    "\n",
    "    levenstein = max(levenstein, fuzz.ratio(expected, actual))\n",
    "    return levenstein"
   ],
   "metadata": {
    "collapsed": false
   }
  },
  {
   "cell_type": "code",
   "execution_count": 4,
   "outputs": [],
   "source": [
    "def get_dt_(data_name):\n",
    "    dt_ = get_dt(data_name)\n",
    "    print(dt_.head(5))\n",
    "    return dt_\n",
    "\n",
    "\n",
    "def add_levenstein(dt_, data_name):\n",
    "    dt_ = dt_.assign(levenstein=pd.Series(np.random.randn(len(dt_))).values)\n",
    "\n",
    "    for image in dt_.index:\n",
    "        if image in dt.index.values:\n",
    "            expected = str(dt.text.loc[image])\n",
    "            actual = dt_[data_name].loc[image]\n",
    "            actual_str = '' if actual == np.nan else str(actual)\n",
    "\n",
    "            dt_.loc[image] = actual, find_max_levenstein(expected.lower(), actual_str)\n",
    "\n",
    "    print(dt_.head())\n",
    "    return dt_"
   ],
   "metadata": {
    "collapsed": false
   }
  },
  {
   "cell_type": "code",
   "execution_count": 10,
   "outputs": [],
   "source": [
    "from statistics import median, mean\n",
    "\n",
    "def stat(dt_, data_name):\n",
    "    plt.hist(dt_.levenstein,\n",
    "             bins=20,\n",
    "             rwidth=0.4)\n",
    "    plt.ylabel('Image')\n",
    "    plt.xlabel('Levenstein')\n",
    "    print(plt.show())\n",
    "\n",
    "    surfaces = np.unique(dt.surface.values)\n",
    "    text_types = np.unique(dt.text_type.values)\n",
    "\n",
    "    for surface in surfaces:\n",
    "        images = dt.loc[dt.surface == surface].index.values\n",
    "        mask = [x in images for x in dt_.image.values]\n",
    "        values = sorted(dt_[mask].levenstein)\n",
    "        dt_stat.loc(axis=0)[data_name, surface] = mean(values), median(values), min(values), max(values)\n",
    "\n",
    "    for text_type in text_types:\n",
    "        images = dt.loc[dt.text_type == text_type].index.values\n",
    "        mask = [x in images for x in dt_.image.values]\n",
    "        values = sorted(dt_[mask].levenstein)\n",
    "        dt_stat.loc(axis=0)[data_name, text_type] = mean(values), median(values), min(values), max(values)\n",
    "\n",
    "    values = sorted(dt_.levenstein)\n",
    "    dt_stat.loc(axis=0)[data_name, 'common'] = mean(values), median(values), min(values), max(values)\n",
    "    save_stat_dt(dt_stat)"
   ],
   "metadata": {
    "collapsed": false
   }
  },
  {
   "cell_type": "code",
   "execution_count": 11,
   "outputs": [
    {
     "name": "stdout",
     "output_type": "stream",
     "text": [
      "                                                      image  levenstein\n",
      "easyocr                                                                \n",
      "50 кг 8т 'безопасности safety requirements треб...  paper-4    1.503904\n",
      "nwi пескобеток [-з0б иихая сиви аокг                paper-1    0.235089\n",
      "ны ement ппромемеит 1p сспц 500-д20 ~ # |_= рас...  paper-2    0.049237\n",
      "птомагад шапukulurn адотвск рассмg; баикортоста...  paper-3   -0.434599\n",
      "660 muk халевол ocп 3 e1 2500x1250x12 ty 5534-6...  wood-16   -1.047945\n",
      "                                                      image  levenstein\n",
      "easyocr                                                                \n",
      "50 кг 8т 'безопасности safety requirements треб...  paper-4    0.695485\n",
      "nwi пескобеток [-з0б иихая сиви аокг                paper-1    0.420430\n",
      "ны ement ппромемеит 1p сспц 500-д20 ~ # |_= рас...  paper-2   -0.619687\n",
      "птомагад шапukulurn адотвск рассмg; баикортоста...  paper-3    0.413806\n",
      "660 muk халевол ocп 3 e1 2500x1250x12 ty 5534-6...  wood-16   -0.144049\n"
     ]
    },
    {
     "data": {
      "text/plain": "<Figure size 640x480 with 1 Axes>",
      "image/png": "[encoded data removed]"
     },
     "metadata": {},
     "output_type": "display_data"
    },
    {
     "name": "stdout",
     "output_type": "stream",
     "text": [
      "None\n"
     ]
    }
   ],
   "source": [
    "from utils.utils import easyocr_column_name\n",
    "\n",
    "dt_easyocr = get_dt_(easyocr_column_name)\n",
    "dt_easyocr = add_levenstein(dt_easyocr, easyocr_column_name)\n",
    "stat(dt_easyocr, easyocr_column_name)\n",
    "save_dt(dt_easyocr, easyocr_column_name)"
   ],
   "metadata": {
    "collapsed": false
   }
  },
  {
   "cell_type": "code",
   "execution_count": 12,
   "outputs": [
    {
     "name": "stdout",
     "output_type": "stream",
     "text": [
      "                                                      image  levenstein\n",
      "pytesseract                                                            \n",
      "neckobetok\\nlm\\n\\n                                  paper-1   -0.931580\n",
      "nw ement\\n\\necomaterial\\ncct, 500-1120 basi¢\\ny...  paper-2    0.954983\n",
      "2, tokiheakay\\nshkortostan, 4891\\nteleak #73479...  paper-3   -1.047322\n",
      "tulatendho pasmewwats chkvyi                        paper-4    1.190951\n",
      "NaN                                                 paper-5   -0.061683\n",
      "                                                      image  levenstein\n",
      "pytesseract                                                            \n",
      "neckobetok\\nlm\\n\\n                                  paper-1   -0.522522\n",
      "nw ement\\n\\necomaterial\\ncct, 500-1120 basi¢\\ny...  paper-2   -0.018363\n",
      "2, tokiheakay\\nshkortostan, 4891\\nteleak #73479...  paper-3    2.006559\n",
      "tulatendho pasmewwats chkvyi                        paper-4   -0.201324\n",
      "NaN                                                 paper-5    1.929673\n"
     ]
    },
    {
     "data": {
      "text/plain": "<Figure size 640x480 with 1 Axes>",
      "image/png": "[encoded data removed]"
     },
     "metadata": {},
     "output_type": "display_data"
    },
    {
     "name": "stdout",
     "output_type": "stream",
     "text": [
      "None\n"
     ]
    }
   ],
   "source": [
    "from utils.utils import pytesseract_column_name\n",
    "\n",
    "dt_pytesseract = get_dt_(pytesseract_column_name)\n",
    "dt_pytesseract = add_levenstein(dt_pytesseract, pytesseract_column_name)\n",
    "stat(dt_pytesseract, pytesseract_column_name)\n",
    "save_dt(dt_pytesseract, pytesseract_column_name)"
   ],
   "metadata": {
    "collapsed": false
   }
  },
  {
   "cell_type": "code",
   "execution_count": 13,
   "outputs": [
    {
     "name": "stdout",
     "output_type": "stream",
     "text": [
      "                                                      image  levenstein\n",
      "doctr                                                                  \n",
      "50.81 safety requirements gost 31108-2016 and a...  paper-4    0.436838\n",
      "nwl neckobetok m-300 cyxan chece ienentho-rscm ...  paper-1   -0.569111\n",
      "jement ebpomeewt ecomaterial basic tpyn ccn4500...  paper-2    0.098131\n",
      "he spocatb! pomamopwren, - manufacturer oaohsck...  paper-3   -0.123071\n",
      "xotio,hbaa acoaibi \"onmmkc\" bcenoroahbi ot-20 a...  paper-5   -1.282111\n",
      "                                                      image  levenstein\n",
      "doctr                                                                  \n",
      "50.81 safety requirements gost 31108-2016 and a...  paper-4   -0.729740\n",
      "nwl neckobetok m-300 cyxan chece ienentho-rscm ...  paper-1   -0.120019\n",
      "jement ebpomeewt ecomaterial basic tpyn ccn4500...  paper-2    0.193782\n",
      "he spocatb! pomamopwren, - manufacturer oaohsck...  paper-3    0.614064\n",
      "xotio,hbaa acoaibi \"onmmkc\" bcenoroahbi ot-20 a...  paper-5    1.740012\n"
     ]
    },
    {
     "data": {
      "text/plain": "<Figure size 640x480 with 1 Axes>",
      "image/png": "[encoded data removed]"
     },
     "metadata": {},
     "output_type": "display_data"
    },
    {
     "name": "stdout",
     "output_type": "stream",
     "text": [
      "None\n"
     ]
    }
   ],
   "source": [
    "from utils.utils import doctr_column_name\n",
    "\n",
    "dt_doctr = get_dt_(doctr_column_name)\n",
    "dt_doctr = add_levenstein(dt_doctr, doctr_column_name)\n",
    "stat(dt_doctr, doctr_column_name)\n",
    "save_dt(dt_doctr, doctr_column_name)"
   ],
   "metadata": {
    "collapsed": false
   }
  },
  {
   "cell_type": "code",
   "execution_count": 43,
   "outputs": [
    {
     "name": "stdout",
     "output_type": "stream",
     "text": [
      "Type:brick\n",
      "                 mean    median       min       max\n",
      "model                                              \n",
      "doctr        0.098242 -0.022277 -1.921417  2.070242\n",
      "easyocr     -0.071632 -0.204369 -1.354331  1.028887\n",
      "pytesseract -0.329914 -0.472749 -2.062537   1.21789\n",
      "___________________________________________________\n",
      "\n",
      "Type:common\n",
      "                 mean    median       min       max\n",
      "model                                              \n",
      "pytesseract   0.03786 -0.112816 -3.032238  2.917503\n",
      "easyocr     -0.114352 -0.152045 -2.432229  2.576692\n",
      "doctr       -0.148047  -0.06953 -2.748216  2.882581\n",
      "___________________________________________________\n",
      "\n",
      "Type:glass\n",
      "                 mean    median       min       max\n",
      "model                                              \n",
      "pytesseract  0.400257  0.753124 -1.802995  1.209811\n",
      "doctr        0.193006  0.215103 -0.971558  1.993753\n",
      "easyocr     -0.807151 -1.120707 -2.097058  1.454277\n",
      "___________________________________________________\n",
      "\n",
      "Type:gold\n",
      "                 mean    median       min       max\n",
      "model                                              \n",
      "easyocr      0.208606 -0.030759 -1.215978  2.298673\n",
      "pytesseract  0.100988  0.378493 -1.087173  0.874145\n",
      "doctr        0.083033  0.565531 -1.555474  0.940414\n",
      "___________________________________________________\n",
      "\n",
      "Type:metal\n",
      "                 mean    median       min       max\n",
      "model                                              \n",
      "pytesseract  0.025278 -0.003616 -2.511724  1.172088\n",
      "easyocr     -0.017153  -0.07353 -1.554118  1.406442\n",
      "doctr       -0.330507 -0.393793 -2.748216  2.051269\n",
      "___________________________________________________\n",
      "\n",
      "Type:paper\n",
      "                 mean    median       min       max\n",
      "model                                              \n",
      "easyocr       0.37274  0.447478 -0.917564  1.415667\n",
      "pytesseract -0.192092  -0.20628 -3.032238  2.006559\n",
      "doctr       -0.509809 -0.510946 -2.311844  1.740012\n",
      "___________________________________________________\n",
      "\n",
      "Type:plastic\n",
      "                 mean    median       min       max\n",
      "model                                              \n",
      "pytesseract  0.140474  0.063511 -1.663799  2.236671\n",
      "easyocr      0.079623 -0.148842 -1.953904  2.576692\n",
      "doctr        0.060564   0.06242 -2.379095  2.882581\n",
      "___________________________________________________\n",
      "\n",
      "Type:pressed\n",
      "                 mean    median       min       max\n",
      "model                                              \n",
      "doctr       -0.056311 -0.029776 -2.748216  2.070242\n",
      "easyocr     -0.138572 -0.202011 -1.883897  2.298673\n",
      "pytesseract -0.161458 -0.276674 -2.511724   1.54506\n",
      "___________________________________________________\n",
      "\n",
      "Type:printed\n",
      "                 mean    median       min       max\n",
      "model                                              \n",
      "easyocr      0.117944  0.289527 -2.362413  2.576692\n",
      "pytesseract  0.081292 -0.191448 -3.032238  2.917503\n",
      "doctr        -0.32121 -0.238038 -2.439245  2.882581\n",
      "___________________________________________________\n",
      "\n",
      "Type:silver\n",
      "                 mean    median       min       max\n",
      "model                                              \n",
      "doctr        0.183138  0.004405 -1.425185  1.960423\n",
      "pytesseract  0.142717 -0.130675 -1.440666  1.974548\n",
      "easyocr     -0.577546 -0.362734 -2.362413  0.613643\n",
      "___________________________________________________\n",
      "\n",
      "Type:squeezedout\n",
      "                 mean    median       min       max\n",
      "model                                              \n",
      "pytesseract  0.213963  0.357711 -2.008642  2.012989\n",
      "doctr        0.076377  0.004964 -1.702378  2.051269\n",
      "easyocr     -0.365416 -0.331625 -2.432229  1.406442\n",
      "___________________________________________________\n",
      "\n",
      "Type:tyre\n",
      "                 mean    median       min       max\n",
      "model                                              \n",
      "pytesseract  0.076417  0.150332 -2.008642  2.012989\n",
      "doctr       -0.140227 -0.013214 -1.702378  1.857626\n",
      "easyocr     -0.159336 -0.197995 -2.432229  1.381102\n",
      "___________________________________________________\n",
      "\n",
      "Type:wood\n",
      "                 mean    median       min       max\n",
      "model                                              \n",
      "pytesseract  0.219475 -0.234061 -2.451601  2.917503\n",
      "easyocr      0.097103  0.251737 -1.883897  1.490531\n",
      "doctr       -0.530078 -0.382151 -2.428659  0.745373\n",
      "___________________________________________________\n",
      "\n"
     ]
    }
   ],
   "source": [
    "save_stat_dt(dt_stat)\n",
    "\n",
    "stat_types = np.unique(dt_stat.index.get_level_values(1))\n",
    "for stat_type in stat_types:\n",
    "    print('Type:' + stat_type)\n",
    "    print(dt_stat.xs(stat_type, level='type').sort_values('mean', ascending=False))\n",
    "    print('___________________________________________________')\n",
    "    print()"
   ],
   "metadata": {
    "collapsed": false
   }
  },
  {
   "cell_type": "code",
   "execution_count": null,
   "outputs": [],
   "source": [],
   "metadata": {
    "collapsed": false
   }
  }
 ],
 "metadata": {
  "kernelspec": {
   "display_name": "Python 3",
   "language": "python",
   "name": "python3"
  },
  "language_info": {
   "codemirror_mode": {
    "name": "ipython",
    "version": 2
   },
   "file_extension": ".py",
   "mimetype": "text/x-python",
   "name": "python",
   "nbconvert_exporter": "python",
   "pygments_lexer": "ipython2",
   "version": "2.7.6"
  }
 },
 "nbformat": 4,
 "nbformat_minor": 0
}
