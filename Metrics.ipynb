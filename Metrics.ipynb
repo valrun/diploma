{
 "cells": [
  {
   "cell_type": "code",
   "execution_count": 21,
   "metadata": {
    "collapsed": true
   },
   "outputs": [],
   "source": [
    "import pandas as pd\n",
    "import numpy as np\n",
    "\n",
    "from utils.pandasUtils import save_dt, get_main_dt, get_dt\n",
    "from fuzzywuzzy import fuzz, process"
   ]
  },
  {
   "cell_type": "code",
   "execution_count": 2,
   "outputs": [
    {
     "data": {
      "text/plain": "        surface text_type                                               text\nimage                                                                       \npaper-4   paper   printed  50.87\\nТРЕБОВАНИЯ БЕЗОПАСНОСТИ\\nЦЕМЕНТ СООТВЕТ...\npaper-1   paper   printed         EWL\\nПЕСКОБЕТОН\\nM-300\\n40 RU\\nCOXAR CHEC)\npaper-2   paper   printed  ecomaterial\\nbasic\\nEMENT®\\nЦЕМЕНТ\\nССПЦ 500-Д...\npaper-3   paper   printed  НЕ БРОСАТЬ!\\nПроизводитель / Manufacturor\\nОЛО...\npaper-5   paper   printed  Г КВАРЦЕВЫЙ ПЕСОК\\nИРАНОРНАЯ КРОШКА\\nПЛЕНКА\\nС...",
      "text/html": "<div>\n<style scoped>\n    .dataframe tbody tr th:only-of-type {\n        vertical-align: middle;\n    }\n\n    .dataframe tbody tr th {\n        vertical-align: top;\n    }\n\n    .dataframe thead th {\n        text-align: right;\n    }\n</style>\n<table border=\"1\" class=\"dataframe\">\n  <thead>\n    <tr style=\"text-align: right;\">\n      <th></th>\n      <th>surface</th>\n      <th>text_type</th>\n      <th>text</th>\n    </tr>\n    <tr>\n      <th>image</th>\n      <th></th>\n      <th></th>\n      <th></th>\n    </tr>\n  </thead>\n  <tbody>\n    <tr>\n      <th>paper-4</th>\n      <td>paper</td>\n      <td>printed</td>\n      <td>50.87\\nТРЕБОВАНИЯ БЕЗОПАСНОСТИ\\nЦЕМЕНТ СООТВЕТ...</td>\n    </tr>\n    <tr>\n      <th>paper-1</th>\n      <td>paper</td>\n      <td>printed</td>\n      <td>EWL\\nПЕСКОБЕТОН\\nM-300\\n40 RU\\nCOXAR CHEC)</td>\n    </tr>\n    <tr>\n      <th>paper-2</th>\n      <td>paper</td>\n      <td>printed</td>\n      <td>ecomaterial\\nbasic\\nEMENT®\\nЦЕМЕНТ\\nССПЦ 500-Д...</td>\n    </tr>\n    <tr>\n      <th>paper-3</th>\n      <td>paper</td>\n      <td>printed</td>\n      <td>НЕ БРОСАТЬ!\\nПроизводитель / Manufacturor\\nОЛО...</td>\n    </tr>\n    <tr>\n      <th>paper-5</th>\n      <td>paper</td>\n      <td>printed</td>\n      <td>Г КВАРЦЕВЫЙ ПЕСОК\\nИРАНОРНАЯ КРОШКА\\nПЛЕНКА\\nС...</td>\n    </tr>\n  </tbody>\n</table>\n</div>"
     },
     "execution_count": 2,
     "metadata": {},
     "output_type": "execute_result"
    }
   ],
   "source": [
    "dt = get_main_dt()\n",
    "dt.head()"
   ],
   "metadata": {
    "collapsed": false
   }
  },
  {
   "cell_type": "code",
   "execution_count": 3,
   "outputs": [
    {
     "data": {
      "text/plain": "surface\nbrick      28\nglass      14\ngold        7\nmetal      20\npaper      12\nplastic    14\nsilver     16\ntyre       17\nwood       22\ndtype: int64"
     },
     "execution_count": 3,
     "metadata": {},
     "output_type": "execute_result"
    }
   ],
   "source": [
    "dt.groupby(['surface']).size()"
   ],
   "metadata": {
    "collapsed": false
   }
  },
  {
   "cell_type": "code",
   "execution_count": 4,
   "outputs": [
    {
     "data": {
      "text/plain": "text_type\npressed        51\nprinted        55\nsqueezedout    44\ndtype: int64"
     },
     "execution_count": 4,
     "metadata": {},
     "output_type": "execute_result"
    }
   ],
   "source": [
    "dt.groupby(['text_type']).size()"
   ],
   "metadata": {
    "collapsed": false
   }
  },
  {
   "cell_type": "code",
   "execution_count": 35,
   "outputs": [
    {
     "data": {
      "text/plain": "                                                   easyocr\nimage                                                     \npaper-4  50 КГ 8т 'БЕЗОПАСНОСТИ SAFETY REQUIREMENTS ТРЕ...\npaper-1               NWI ПЕСКОБЕТОК [-з0б иихая Сиви аОкг\npaper-2  ны EMENT ППРОМЕМЕИТ 1p ССПЦ 500-Д20 ~ # |_= Ра...\npaper-3  Птомагад Шапukulurn адотвск Рассмg; Баикортост...\nwood-16  660 MUK ХАЛЕВОЛ OCП 3 E1 2500x1250x12 TY 5534-...",
      "text/html": "<div>\n<style scoped>\n    .dataframe tbody tr th:only-of-type {\n        vertical-align: middle;\n    }\n\n    .dataframe tbody tr th {\n        vertical-align: top;\n    }\n\n    .dataframe thead th {\n        text-align: right;\n    }\n</style>\n<table border=\"1\" class=\"dataframe\">\n  <thead>\n    <tr style=\"text-align: right;\">\n      <th></th>\n      <th>easyocr</th>\n    </tr>\n    <tr>\n      <th>image</th>\n      <th></th>\n    </tr>\n  </thead>\n  <tbody>\n    <tr>\n      <th>paper-4</th>\n      <td>50 КГ 8т 'БЕЗОПАСНОСТИ SAFETY REQUIREMENTS ТРЕ...</td>\n    </tr>\n    <tr>\n      <th>paper-1</th>\n      <td>NWI ПЕСКОБЕТОК [-з0б иихая Сиви аОкг</td>\n    </tr>\n    <tr>\n      <th>paper-2</th>\n      <td>ны EMENT ППРОМЕМЕИТ 1p ССПЦ 500-Д20 ~ # |_= Ра...</td>\n    </tr>\n    <tr>\n      <th>paper-3</th>\n      <td>Птомагад Шапukulurn адотвск Рассмg; Баикортост...</td>\n    </tr>\n    <tr>\n      <th>wood-16</th>\n      <td>660 MUK ХАЛЕВОЛ OCП 3 E1 2500x1250x12 TY 5534-...</td>\n    </tr>\n  </tbody>\n</table>\n</div>"
     },
     "execution_count": 35,
     "metadata": {},
     "output_type": "execute_result"
    }
   ],
   "source": [
    "easyocr_column_name = 'easyocr'\n",
    "\n",
    "dt_easyocr = get_dt(easyocr_column_name)\n",
    "dt_easyocr.head()"
   ],
   "metadata": {
    "collapsed": false
   }
  },
  {
   "cell_type": "code",
   "execution_count": 39,
   "outputs": [
    {
     "data": {
      "text/plain": "                                                   easyocr  levenstein\nimage                                                                 \npaper-4  50 кг 8т 'безопасности safety requirements тре...        18.0\npaper-1               nwi пескобеток [-з0б иихая сиви аокг        38.0\npaper-2  ны ement ппромемеит 1p сспц 500-д20 ~ # |_= ра...         6.0\npaper-3  птомагад шапukulurn адотвск рассмg; баикортост...        21.0\nwood-16  660 muk халевол ocп 3 e1 2500x1250x12 ty 5534-...        84.0",
      "text/html": "<div>\n<style scoped>\n    .dataframe tbody tr th:only-of-type {\n        vertical-align: middle;\n    }\n\n    .dataframe tbody tr th {\n        vertical-align: top;\n    }\n\n    .dataframe thead th {\n        text-align: right;\n    }\n</style>\n<table border=\"1\" class=\"dataframe\">\n  <thead>\n    <tr style=\"text-align: right;\">\n      <th></th>\n      <th>easyocr</th>\n      <th>levenstein</th>\n    </tr>\n    <tr>\n      <th>image</th>\n      <th></th>\n      <th></th>\n    </tr>\n  </thead>\n  <tbody>\n    <tr>\n      <th>paper-4</th>\n      <td>50 кг 8т 'безопасности safety requirements тре...</td>\n      <td>18.0</td>\n    </tr>\n    <tr>\n      <th>paper-1</th>\n      <td>nwi пескобеток [-з0б иихая сиви аокг</td>\n      <td>38.0</td>\n    </tr>\n    <tr>\n      <th>paper-2</th>\n      <td>ны ement ппромемеит 1p сспц 500-д20 ~ # |_= ра...</td>\n      <td>6.0</td>\n    </tr>\n    <tr>\n      <th>paper-3</th>\n      <td>птомагад шапukulurn адотвск рассмg; баикортост...</td>\n      <td>21.0</td>\n    </tr>\n    <tr>\n      <th>wood-16</th>\n      <td>660 muk халевол ocп 3 e1 2500x1250x12 ty 5534-...</td>\n      <td>84.0</td>\n    </tr>\n  </tbody>\n</table>\n</div>"
     },
     "execution_count": 39,
     "metadata": {},
     "output_type": "execute_result"
    }
   ],
   "source": [
    "dt_easyocr = dt_easyocr.assign(levenstein=pd.Series(np.random.randn(len(dt_easyocr))).values)\n",
    "\n",
    "for image in dt_easyocr.index:\n",
    "    if image in dt.index.values:\n",
    "        expected = str(str(dt.text.loc[image])).lower()\n",
    "        actual = str(dt_easyocr.easyocr.loc[image]).lower()\n",
    "\n",
    "        dt_easyocr.loc[image] = actual, fuzz.ratio(expected, actual)\n",
    "\n",
    "dt_easyocr.head()"
   ],
   "metadata": {
    "collapsed": false
   }
  },
  {
   "cell_type": "code",
   "execution_count": 40,
   "outputs": [],
   "source": [
    "save_dt(dt_easyocr, easyocr_column_name)"
   ],
   "metadata": {
    "collapsed": false
   }
  },
  {
   "cell_type": "code",
   "execution_count": 41,
   "outputs": [
    {
     "data": {
      "text/plain": "                                               pytesseract\nimage                                                     \npaper-4  TULATENDHO PASMEWWATS CHKVYIO CMECh\\n\\nA oT EQ...\npaper-1                                 NECKOBETOK\\nLM\\n\\n\npaper-2  Nw EMENT\\n\\necomaterial\\nCCT, 500-1120 basi¢\\n...\npaper-3  2, ToKIheakay\\nshkortostan, 4891\\nTELEAK #7347...\npaper-4  TULATENDHO PASMEWWATS CHKVYIO CMECh\\n\\nA oT EQ...",
      "text/html": "<div>\n<style scoped>\n    .dataframe tbody tr th:only-of-type {\n        vertical-align: middle;\n    }\n\n    .dataframe tbody tr th {\n        vertical-align: top;\n    }\n\n    .dataframe thead th {\n        text-align: right;\n    }\n</style>\n<table border=\"1\" class=\"dataframe\">\n  <thead>\n    <tr style=\"text-align: right;\">\n      <th></th>\n      <th>pytesseract</th>\n    </tr>\n    <tr>\n      <th>image</th>\n      <th></th>\n    </tr>\n  </thead>\n  <tbody>\n    <tr>\n      <th>paper-4</th>\n      <td>TULATENDHO PASMEWWATS CHKVYIO CMECh\\n\\nA oT EQ...</td>\n    </tr>\n    <tr>\n      <th>paper-1</th>\n      <td>NECKOBETOK\\nLM\\n\\n</td>\n    </tr>\n    <tr>\n      <th>paper-2</th>\n      <td>Nw EMENT\\n\\necomaterial\\nCCT, 500-1120 basi¢\\n...</td>\n    </tr>\n    <tr>\n      <th>paper-3</th>\n      <td>2, ToKIheakay\\nshkortostan, 4891\\nTELEAK #7347...</td>\n    </tr>\n    <tr>\n      <th>paper-4</th>\n      <td>TULATENDHO PASMEWWATS CHKVYIO CMECh\\n\\nA oT EQ...</td>\n    </tr>\n  </tbody>\n</table>\n</div>"
     },
     "execution_count": 41,
     "metadata": {},
     "output_type": "execute_result"
    }
   ],
   "source": [
    "pytesseract_column_name = 'pytesseract'\n",
    "\n",
    "dt_pytesseract = get_dt(pytesseract_column_name)\n",
    "dt_pytesseract.head()"
   ],
   "metadata": {
    "collapsed": false
   }
  },
  {
   "cell_type": "code",
   "execution_count": 42,
   "outputs": [
    {
     "data": {
      "text/plain": "                                               pytesseract  levenstein\nimage                                                                 \npaper-4  image\\npaper-4    image\\npaper-4    tulatendho...         5.0\npaper-1                                 neckobetok\\nlm\\n\\n         8.0\npaper-2  nw ement\\n\\necomaterial\\ncct, 500-1120 basi¢\\n...        22.0\npaper-3  2, tokiheakay\\nshkortostan, 4891\\nteleak #7347...         8.0\npaper-4  image\\npaper-4    image\\npaper-4    tulatendho...         5.0",
      "text/html": "<div>\n<style scoped>\n    .dataframe tbody tr th:only-of-type {\n        vertical-align: middle;\n    }\n\n    .dataframe tbody tr th {\n        vertical-align: top;\n    }\n\n    .dataframe thead th {\n        text-align: right;\n    }\n</style>\n<table border=\"1\" class=\"dataframe\">\n  <thead>\n    <tr style=\"text-align: right;\">\n      <th></th>\n      <th>pytesseract</th>\n      <th>levenstein</th>\n    </tr>\n    <tr>\n      <th>image</th>\n      <th></th>\n      <th></th>\n    </tr>\n  </thead>\n  <tbody>\n    <tr>\n      <th>paper-4</th>\n      <td>image\\npaper-4    image\\npaper-4    tulatendho...</td>\n      <td>5.0</td>\n    </tr>\n    <tr>\n      <th>paper-1</th>\n      <td>neckobetok\\nlm\\n\\n</td>\n      <td>8.0</td>\n    </tr>\n    <tr>\n      <th>paper-2</th>\n      <td>nw ement\\n\\necomaterial\\ncct, 500-1120 basi¢\\n...</td>\n      <td>22.0</td>\n    </tr>\n    <tr>\n      <th>paper-3</th>\n      <td>2, tokiheakay\\nshkortostan, 4891\\nteleak #7347...</td>\n      <td>8.0</td>\n    </tr>\n    <tr>\n      <th>paper-4</th>\n      <td>image\\npaper-4    image\\npaper-4    tulatendho...</td>\n      <td>5.0</td>\n    </tr>\n  </tbody>\n</table>\n</div>"
     },
     "execution_count": 42,
     "metadata": {},
     "output_type": "execute_result"
    }
   ],
   "source": [
    "dt_pytesseract = dt_pytesseract.assign(levenstein=pd.Series(np.random.randn(len(dt_pytesseract))).values)\n",
    "\n",
    "for image in dt_pytesseract.index:\n",
    "    if image in dt.index.values:\n",
    "        expected = str(str(dt.text.loc[image])).lower()\n",
    "        actual = str(dt_pytesseract.pytesseract.loc[image]).lower()\n",
    "\n",
    "        dt_pytesseract.loc[image] = actual, fuzz.ratio(expected, actual)\n",
    "\n",
    "dt_pytesseract.head()"
   ],
   "metadata": {
    "collapsed": false
   }
  },
  {
   "cell_type": "code",
   "execution_count": 43,
   "outputs": [],
   "source": [
    "save_dt(dt_pytesseract, pytesseract_column_name)"
   ],
   "metadata": {
    "collapsed": false
   }
  },
  {
   "cell_type": "code",
   "execution_count": 44,
   "outputs": [
    {
     "data": {
      "text/plain": "                                                     doctr\nimage                                                     \npaper-4  50.81 SAFETY REQUIREMENTS GOST 31108-2016 AND ...\npaper-1  NWL NECKOBETOK M-300 CYXAN CHECE IENENTHO-RSCM...\npaper-2  JEMENT EBPOMEEWT ecomaterial basic tpyn CCn450...\npaper-3  HE SPOCATb! pomamopwren, - Manufacturer OAOHSC...\npaper-5  XOTIO,HBAA ACOAIbI \"ONMMKC\" BCEnOrOAHbI OT-20 ...",
      "text/html": "<div>\n<style scoped>\n    .dataframe tbody tr th:only-of-type {\n        vertical-align: middle;\n    }\n\n    .dataframe tbody tr th {\n        vertical-align: top;\n    }\n\n    .dataframe thead th {\n        text-align: right;\n    }\n</style>\n<table border=\"1\" class=\"dataframe\">\n  <thead>\n    <tr style=\"text-align: right;\">\n      <th></th>\n      <th>doctr</th>\n    </tr>\n    <tr>\n      <th>image</th>\n      <th></th>\n    </tr>\n  </thead>\n  <tbody>\n    <tr>\n      <th>paper-4</th>\n      <td>50.81 SAFETY REQUIREMENTS GOST 31108-2016 AND ...</td>\n    </tr>\n    <tr>\n      <th>paper-1</th>\n      <td>NWL NECKOBETOK M-300 CYXAN CHECE IENENTHO-RSCM...</td>\n    </tr>\n    <tr>\n      <th>paper-2</th>\n      <td>JEMENT EBPOMEEWT ecomaterial basic tpyn CCn450...</td>\n    </tr>\n    <tr>\n      <th>paper-3</th>\n      <td>HE SPOCATb! pomamopwren, - Manufacturer OAOHSC...</td>\n    </tr>\n    <tr>\n      <th>paper-5</th>\n      <td>XOTIO,HBAA ACOAIbI \"ONMMKC\" BCEnOrOAHbI OT-20 ...</td>\n    </tr>\n  </tbody>\n</table>\n</div>"
     },
     "execution_count": 44,
     "metadata": {},
     "output_type": "execute_result"
    }
   ],
   "source": [
    "doctr_column_name = 'doctr'\n",
    "\n",
    "dt_doctr = get_dt(doctr_column_name)\n",
    "dt_doctr.head()"
   ],
   "metadata": {
    "collapsed": false
   }
  },
  {
   "cell_type": "code",
   "execution_count": 45,
   "outputs": [
    {
     "data": {
      "text/plain": "                                                     doctr  levenstein\nimage                                                                 \npaper-4  50.81 safety requirements gost 31108-2016 and ...        13.0\npaper-1  nwl neckobetok m-300 cyxan chece ienentho-rscm...        27.0\npaper-2  jement ebpomeewt ecomaterial basic tpyn ccn450...        26.0\npaper-3  he spocatb! pomamopwren, - manufacturer oaohsc...        17.0\npaper-5  xotio,hbaa acoaibi \"onmmkc\" bcenoroahbi ot-20 ...         8.0",
      "text/html": "<div>\n<style scoped>\n    .dataframe tbody tr th:only-of-type {\n        vertical-align: middle;\n    }\n\n    .dataframe tbody tr th {\n        vertical-align: top;\n    }\n\n    .dataframe thead th {\n        text-align: right;\n    }\n</style>\n<table border=\"1\" class=\"dataframe\">\n  <thead>\n    <tr style=\"text-align: right;\">\n      <th></th>\n      <th>doctr</th>\n      <th>levenstein</th>\n    </tr>\n    <tr>\n      <th>image</th>\n      <th></th>\n      <th></th>\n    </tr>\n  </thead>\n  <tbody>\n    <tr>\n      <th>paper-4</th>\n      <td>50.81 safety requirements gost 31108-2016 and ...</td>\n      <td>13.0</td>\n    </tr>\n    <tr>\n      <th>paper-1</th>\n      <td>nwl neckobetok m-300 cyxan chece ienentho-rscm...</td>\n      <td>27.0</td>\n    </tr>\n    <tr>\n      <th>paper-2</th>\n      <td>jement ebpomeewt ecomaterial basic tpyn ccn450...</td>\n      <td>26.0</td>\n    </tr>\n    <tr>\n      <th>paper-3</th>\n      <td>he spocatb! pomamopwren, - manufacturer oaohsc...</td>\n      <td>17.0</td>\n    </tr>\n    <tr>\n      <th>paper-5</th>\n      <td>xotio,hbaa acoaibi \"onmmkc\" bcenoroahbi ot-20 ...</td>\n      <td>8.0</td>\n    </tr>\n  </tbody>\n</table>\n</div>"
     },
     "execution_count": 45,
     "metadata": {},
     "output_type": "execute_result"
    }
   ],
   "source": [
    "dt_doctr = dt_doctr.assign(levenstein=pd.Series(np.random.randn(len(dt_doctr))).values)\n",
    "\n",
    "for image in dt_doctr.index:\n",
    "    if image in dt.index.values:\n",
    "        expected = str(str(dt.text.loc[image])).lower()\n",
    "        actual = str(dt_doctr.doctr.loc[image]).lower()\n",
    "\n",
    "        dt_doctr.loc[image] = actual, fuzz.ratio(expected, actual)\n",
    "\n",
    "dt_doctr.head()"
   ],
   "metadata": {
    "collapsed": false
   }
  },
  {
   "cell_type": "code",
   "execution_count": 46,
   "outputs": [],
   "source": [
    "save_dt(dt_doctr, doctr_column_name)"
   ],
   "metadata": {
    "collapsed": false
   }
  },
  {
   "cell_type": "code",
   "execution_count": null,
   "outputs": [],
   "source": [],
   "metadata": {
    "collapsed": false
   }
  }
 ],
 "metadata": {
  "kernelspec": {
   "display_name": "Python 3",
   "language": "python",
   "name": "python3"
  },
  "language_info": {
   "codemirror_mode": {
    "name": "ipython",
    "version": 2
   },
   "file_extension": ".py",
   "mimetype": "text/x-python",
   "name": "python",
   "nbconvert_exporter": "python",
   "pygments_lexer": "ipython2",
   "version": "2.7.6"
  }
 },
 "nbformat": 4,
 "nbformat_minor": 0
}
